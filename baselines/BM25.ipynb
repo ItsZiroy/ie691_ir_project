{
 "cells": [
  {
   "cell_type": "markdown",
   "metadata": {},
   "source": [
    "# BM25 model"
   ]
  },
  {
   "cell_type": "code",
   "execution_count": 1,
   "metadata": {},
   "outputs": [],
   "source": [
    "import pandas as pd\n",
    "from sklearn.feature_extraction.text import TfidfVectorizer\n",
    "from sklearn.metrics.pairwise import cosine_similarity\n",
    "from funcs import load_datasets, get_docs\n",
    "from ir_measures import measures, calc_aggregate"
   ]
  },
  {
   "cell_type": "code",
   "execution_count": 2,
   "metadata": {},
   "outputs": [],
   "source": [
    "#datasets = load_datasets([\"ru\", \"zh\", \"fa\"])\n",
    "\n",
    "import ir_datasets\n",
    "datasets = ir_datasets.load(\"neuclir/1/ru/hc4-filtered\")"
   ]
  },
  {
   "cell_type": "code",
   "execution_count": 3,
   "metadata": {},
   "outputs": [],
   "source": [
    "# Load the Qrels and Queries\n",
    "qrels = pd.DataFrame(datasets.qrels_iter())  # ground truth\n",
    "queries = pd.DataFrame(datasets.queries_iter())  # queries\n",
    "documents = pd.DataFrame(datasets.docs_iter())  # documents"
   ]
  },
  {
   "cell_type": "code",
   "execution_count": 4,
   "metadata": {},
   "outputs": [],
   "source": [
    "common_query_ids = set(qrels[\"query_id\"]).intersection(queries[\"query_id\"])\n",
    "filtered_queries = queries[queries[\"query_id\"].isin(common_query_ids)]"
   ]
  },
  {
   "cell_type": "code",
   "execution_count": 5,
   "metadata": {},
   "outputs": [],
   "source": [
    "#tokenize and normalize Russian\n",
    "\n",
    "import nltk\n",
    "from nltk.corpus import stopwords\n",
    "from nltk.tokenize import word_tokenize\n",
    "import string\n",
    "\n",
    "#nltk.download('punkt')\n",
    "#nltk.download('stopwords')\n",
    "\n",
    "def preprocess_ru(text):\n",
    "    # Tokenize\n",
    "    tokens = word_tokenize(text)\n",
    "    # Lowercase and remove punctuation\n",
    "    tokens = [word.lower() for word in tokens if word.isalpha()]\n",
    "    # Remove stop words\n",
    "    stop_words = set(stopwords.words('russian'))\n",
    "    tokens = [word for word in tokens if word not in stop_words]\n",
    "    return ' '.join(tokens)  # Join tokens back into a single string"
   ]
  },
  {
   "cell_type": "code",
   "execution_count": 6,
   "metadata": {},
   "outputs": [],
   "source": [
    "# Apply preprocessing to the document text\n",
    "documents['processed_text'] = documents['text'].apply(preprocess_ru)"
   ]
  },
  {
   "cell_type": "code",
   "execution_count": 7,
   "metadata": {},
   "outputs": [
    {
     "name": "stdout",
     "output_type": "stream",
     "text": [
      "['двое друзей встретились парке гуляя собаками предложил зайти позавтракать ближайшее кафе пустят туда собаками возразил второй первый решительно направился кафе своей немецкой овчаркой хозяин остановил словами сэр нам заходить животными слепой это хозяин извинился проводил собакой столику друг подождал улице пять минут попробовал сделать самое ваш поводырь чихуахуа скептически осведомился хозяин чихуахуа удивился мужчина подсунули анекдот', 'нашли ошибку текст который выделяем смотрим выделили слишком максимальное количество символов попробуйте снова спасибо сообщение отправлено скоро исправим', 'бежит мышка кота прыгает стола попадает бутылку недопитым вином стоящую полу барахтается говорит коту вытащи дай умереть кошмарной смертью убежишь честное слово вытащил первым делом норку шасть сидит кот обижается мышка выходи сказала убежишь мало сказать мужчине женщина нетрезвом виде анекдот', 'председатель федерального ведомства охране конституции германии масен maaßen отправлен отставку объявил министр внутренних дел фрг хорст зеехофер horst seehofer понедельник ноября зеехофер сообщил попросил отставке масена президента фрг штайнмайера глава мвд назвал свое решение неизбежным пояснив масен одном своих последних выступлений допустил неприемлемые формулировки которые делают невозможным дальнейшее сотрудничество основанное доверии принятия окончательного решения федеральным ведомством охране конституции руководить заместитель масена томас хальденванг thomas haldenwang ранее масен ходе встречи руководителей спецслужб разных стран выступил защиту своих предыдущих высказываний ставящих сомнение травлю иностранцев стороны правых экстремистов ходе беспорядков саксонском городе хемнице согласно тексту речи который получили информагентства политик затем заявил некие леворадикальные силы партии германии сдпг ранее выступавшие против создания правительственной коалиции блоком якобы посчитали высказываниями событиях хемнице хорошим поводом развала масен усомнился подлинности видео хемница масен попал шквал критики заявления недоказанной подлинности видеозаписи хемница которой видно несколько немцев гонятся темнокожими иностранцами глава ведомства частности утверждал речь идет целенаправленной дезинформации отвлечь общественность убийства хемнице гражданина фрг позже заявил оспаривает подлинность видео неправильно поняли председатели партий большой коалиции долго искали компромиссное решение судьбе масена канцлер ангела меркель angela merkel придерживалась мнения необходимости отставки поскольку вмешался текущую политику имея это права качестве руководителя спецслужбы очередь зеехофер ранее защищал масена которого отстранения должности планировалось назначить специальным советником европейским национальным вопросам мвд фрг смотрите также правительство фрг руководит германией вместе меркель меркель сдает позиции слава богу ведомство канцлера осталось наших руках горькой иронией прокомментировали итоги коалиционных переговоров некоторые политики стана ангелы меркель узнав достанется столь важное министерство финансов иначе коалицию создать считается позиции меркель ослабли уйдет раньше срока утверждает правительство фрг руководит германией вместе меркель кому достались финансы олаф шольц новый министр финансов шольца смущает продолжит дело предшественника хдс вольфганга шойбле допускать дефицита бюджета новых заимствований фоне роста экономики шольц планирует это записано коалиционном договоре хотя такая экономия нравится всем олаф шольц станет новом кабинете правительство фрг руководит германией вместе меркель сюрприз миде действующий глава мида зигмар габриэль уверен успехи посту заметят коллеги партии одобрят кандидатуру результате внутрипартийной борьбы пост достался неожиданному кандидату действующему министру юстиции хайко масу отличился принятием закона защите прав социальных сетях который критики считают началом эпохи цензуры интернете правительство фрг руководит германией вместе меркель новая родина шефа баварской хсс хорст зеехофер течение лет руководил баварией политик получит кресло министра внутренних дел переименования оно называться министерством внутренних дел строительства регионального развития неформально называют министерство родины правительство фрг руководит германией вместе меркель бундесвере остается фон дер ляйен урсула фон дер ляйен продолжит работу посту министра обороны политик партии хдс должна справиться задачей переоснащения армии реализовать обещание стран нато повысить оборонные бюджеты двух процентов ввп страны фон дер ляйен считается вероятным кандидатом пост генсека альянса выборы пройдут года правительство фрг руководит германией вместе меркель кому доверяет меркель ангела меркель считается доверяет главе ведомства канцлера петеру альтмайеру всем вопросам политика хдс ждет новая задача руководить министерством экономики энергетики отдав влиятельное финансовое ведомство хдс поставила авторитетного близкого меркель политика второй значимости экономический пост правительство фрг руководит германией вместе меркель ближе канцлеру хельге браун говорят партии хдс пользуется доверием меркель лет сих пор исполнял обязанности госминистра канцлере браун унаследует пост главы ведомства канцлера говорят начальница очень ценит браун занимая ключевую позицию сможет координировать работу внедрению новых технологий правительство фрг руководит германией вместе меркель займется правом пост министра юстиции выдвинули уроженку кельна катарину барлей юрист профессии сих пор исполняла функции министра делам семьи пожилых людей женщин молодежи правительство фрг руководит германией вместе меркель министерство труда руках генсека сдпг бывший генеральный секретарь сдпг хубертус хайль новом правительстве меркель станет министром труда политику пришел возрасте лет вступив партию году лет хайль избран бундестаг своего округа правительство фрг руководит германией вместе меркель выбор специальности юлия клёкнер родом земли важную роль играет сельское хозяйство виноделие клёкнер плечами года работы парламентским госсекретарем министерстве сельского хозяйства возглавит правительство фрг руководит германией вместе меркель вотчина баварцев министерство транспорта должен возглавить андреас шойер ранее являлся генсеком баварской партии хсс дополнительная сфера ответственности шойера внедрение цифровых технологий предыдущий министр транспорта александер добриндт баварии правительство фрг руководит германией вместе меркель мюллер продолжит свое дело пожалуй никто министров фрг считать главы мида часто колесит миру министр вопросам экономического сотрудничества развития фрг герд мюллер мюллер хсс сохранит собой пост основная задача помогать развитию бедных стран бороться причинами которые приводят миграции автор михаил бушуев андреа грунау', 'москва апреля арменпресс результаты торгов ведущих европейских фондовых биржах апреля передает арменпресс немецкий dax изменился составил пункта французский cac изменился составил пункта британский ftse изменился составил пункта российский micex изменился составил пункта rtsi вырос составил пункта']\n"
     ]
    }
   ],
   "source": [
    "# Convert the processed documents to a list\n",
    "processed_documents = documents[\"processed_text\"].tolist()\n",
    "\n",
    "# Verify a few processed documents\n",
    "print(processed_documents[:5])"
   ]
  },
  {
   "cell_type": "code",
   "execution_count": 8,
   "metadata": {},
   "outputs": [
    {
     "name": "stdout",
     "output_type": "stream",
     "text": [
      "['британские королевские новости влияют', 'суверенитет гибралтара брексита', 'торговое соглашение сша южной кореей', 'северокорейские землетрясения ядерные испытания', 'кораблекрушения историческая европейская торговля']\n"
     ]
    }
   ],
   "source": [
    "# Apply preprocessing to the 'title' column\n",
    "\n",
    "filtered_queries[\"processed_query\"] = filtered_queries[\"mt_title\"].apply(preprocess_ru) # change description to title to use the title column\n",
    "\n",
    "# Convert the processed queries to a list\n",
    "processed_queries = filtered_queries[\"processed_query\"].tolist()\n",
    "\n",
    "# Verify the processed queries\n",
    "print(processed_queries[:5])"
   ]
  },
  {
   "cell_type": "code",
   "execution_count": 9,
   "metadata": {},
   "outputs": [],
   "source": [
    "#Vectorize Queries and Documents with TF-IDF\n",
    "\n",
    "from sklearn.feature_extraction.text import TfidfVectorizer\n",
    "\n",
    "# Initialize TF-IDF vectorizer\n",
    "vectorizer = TfidfVectorizer(norm='l2')\n",
    "\n",
    "# Fit and transform on the combined data for consistent vocabulary\n",
    "tfidf_documents = vectorizer.fit_transform(processed_documents)\n",
    "tfidf_queries = vectorizer.transform(processed_queries)\n"
   ]
  },
  {
   "cell_type": "code",
   "execution_count": 10,
   "metadata": {},
   "outputs": [],
   "source": [
    "from rank_bm25 import BM25Okapi"
   ]
  },
  {
   "cell_type": "code",
   "execution_count": 11,
   "metadata": {},
   "outputs": [],
   "source": [
    "# Initialize the BM25 model with the tokenized corpus\n",
    "bm25 = BM25Okapi(processed_documents)"
   ]
  },
  {
   "cell_type": "code",
   "execution_count": 12,
   "metadata": {},
   "outputs": [],
   "source": [
    "# Example query: Retrieve top documents for each query\n",
    "results = {}\n",
    "for idx, query in filtered_queries.iterrows():\n",
    "    query_tokens = query['processed_query']\n",
    "    doc_scores = bm25.get_scores(query_tokens)\n",
    "    top_n_indices = doc_scores.argsort()[-10:][::-1]  # Top 10 documents\n",
    "    results[query['query_id']] = documents.iloc[top_n_indices][['doc_id', 'title', 'text']]"
   ]
  },
  {
   "cell_type": "code",
   "execution_count": 13,
   "metadata": {},
   "outputs": [
    {
     "name": "stdout",
     "output_type": "stream",
     "text": [
      "Top documents for query 3:\n",
      "                                      doc_id  \\\n",
      "515510  207cb3a5-a2be-42d7-86cf-530120d0d570   \n",
      "801219  e2f3d3d3-7b6f-47df-96e6-31567aa69707   \n",
      "369558  dd659748-b8f2-4e5e-b887-76e39840b74c   \n",
      "76212   48f5226f-46e8-4c66-81eb-20526043e274   \n",
      "209094  75083127-54db-4c86-b622-4150377d80ff   \n",
      "842207  81fd399d-f667-46b0-8011-33d8442b7cb1   \n",
      "336776  22e77ebd-1baf-407a-a7b9-8349d97f17d6   \n",
      "317190  e1247479-27ef-43f7-bbd9-047555c68c2b   \n",
      "340838  a747c84f-791b-4a7d-8c7a-79c8063aac72   \n",
      "507202  a2c7a8c6-0146-4f1e-b52b-94a6df221a59   \n",
      "\n",
      "                                                    title  \\\n",
      "515510  Валюту под матрас: российские банки теряли при...   \n",
      "801219  Массовый сход в сквере в центре Екатеринбурга....   \n",
      "369558                                 НБУ ”потерял” курс   \n",
      "76212   Ящик пандоры – Сергей Глазьев об экономике Кры...   \n",
      "209094   Революция как вызов истории, - Борис Кагарлицкий   \n",
      "842207  Летом к морю в Украине запустили 30 летних пое...   \n",
      "336776  Модный дизайн ногтей 2018: красивые идеи и нов...   \n",
      "317190                                    Картины безумия   \n",
      "340838        Молодежный фестиваль «Время добра» в Минске   \n",
      "507202                Валютные вклады в тюрьме регулятора   \n",
      "\n",
      "                                                     text  \n",
      "515510  Валюту под матрас: российские банки теряли при...  \n",
      "801219  Массовый сход в сквере в центре Екатеринбурга....  \n",
      "369558  Второй квартал кряду НБУ не может стабилизиров...  \n",
      "76212   Советник президента РФ Сергей Глазьев на полях...  \n",
      "209094  Революция как вызов истории, - Борис Кагарлицк...  \n",
      "842207  \"Укрзализныця\" назначила дополнительные поезда...  \n",
      "336776  Модный дизайн ногтей 2018: красивые идеи и нов...  \n",
      "317190  Известно отрицательное отношение Горького к ре...  \n",
      "340838  Молодежный фестиваль «Время добра» в Минске\\n\\...  \n",
      "507202  Валютные вклады в тюрьме регулятора\\n\\nЦентроб...  \n"
     ]
    }
   ],
   "source": [
    "# View results for a specific query_id\n",
    "query_id_to_view = filtered_queries['query_id'].iloc[0]\n",
    "print(f\"Top documents for query {query_id_to_view}:\")\n",
    "print(results[query_id_to_view])"
   ]
  },
  {
   "cell_type": "code",
   "execution_count": 14,
   "metadata": {},
   "outputs": [],
   "source": [
    "bm25_run = []\n",
    "\n",
    "# Convert BM25 results into the required format\n",
    "for query_id, docs in results.items():\n",
    "    # Compute BM25 scores for the query\n",
    "    query_tokens = filtered_queries.loc[filtered_queries[\"query_id\"] == query_id, \"processed_query\"].values[0]\n",
    "    doc_scores = bm25.get_scores(query_tokens)\n",
    "    \n",
    "    # Iterate over the retrieved documents\n",
    "    for doc_index in docs.index:\n",
    "        doc_id = docs.at[doc_index, \"doc_id\"]\n",
    "        score = doc_scores[documents.index[documents[\"doc_id\"] == doc_id][0]]  # Map the score by index\n",
    "        bm25_run.append({'query_id': query_id, 'doc_id': doc_id, 'score': score})"
   ]
  },
  {
   "cell_type": "code",
   "execution_count": 15,
   "metadata": {},
   "outputs": [
    {
     "name": "stdout",
     "output_type": "stream",
     "text": [
      "BM25 Run DataFrame:\n",
      "   query_id                                doc_id       score\n",
      "0        3  207cb3a5-a2be-42d7-86cf-530120d0d570  228.582652\n",
      "1        3  e2f3d3d3-7b6f-47df-96e6-31567aa69707  228.567458\n",
      "2        3  dd659748-b8f2-4e5e-b887-76e39840b74c  228.558398\n",
      "3        3  48f5226f-46e8-4c66-81eb-20526043e274  228.553375\n",
      "4        3  75083127-54db-4c86-b622-4150377d80ff  228.546907\n"
     ]
    }
   ],
   "source": [
    "your_run = pd.DataFrame(bm25_run)\n",
    "\n",
    "print(\"BM25 Run DataFrame:\\n\", your_run.head())"
   ]
  },
  {
   "cell_type": "code",
   "execution_count": 16,
   "metadata": {},
   "outputs": [
    {
     "name": "stdout",
     "output_type": "stream",
     "text": [
      "     Rank                           Document ID  Similarity Score  \\\n",
      "0       1  c4453776-602a-4f96-ae9a-c108d0520424        394.639859   \n",
      "1       2  6094dcf1-039a-49dd-839b-5c4a22c9974d        394.613681   \n",
      "2       3  00d8a96d-bcc6-4879-befb-fe12399ec347        394.555318   \n",
      "3       4  80499975-514e-4067-b741-9ecd4dd6017e        394.539520   \n",
      "4       5  8c07c4bf-5746-45df-bd0a-a5aed1f86d6a        394.539519   \n",
      "..    ...                                   ...               ...   \n",
      "535   536  80289c0c-d4a4-4d2a-ab68-1422397a6adc        103.414212   \n",
      "536   537  eb977545-3132-4401-8c5f-c9325836c306        103.292383   \n",
      "537   538  8456942d-7606-4e4e-9579-f98c68700faf        103.283641   \n",
      "538   539  f22cdb6e-5631-4b57-b128-8f9842815e61        103.210061   \n",
      "539   540  9160dfba-4c5f-4f4e-9b5a-533fa9a508f5        103.188710   \n",
      "\n",
      "     Normalized Score  \n",
      "0            1.000000  \n",
      "1            0.999910  \n",
      "2            0.999710  \n",
      "3            0.999656  \n",
      "4            0.999656  \n",
      "..                ...  \n",
      "535          0.000774  \n",
      "536          0.000356  \n",
      "537          0.000326  \n",
      "538          0.000073  \n",
      "539          0.000000  \n",
      "\n",
      "[540 rows x 4 columns]\n"
     ]
    }
   ],
   "source": [
    "# Add a Rank column based on the score, in descending order\n",
    "your_run[\"Rank\"] = your_run[\"score\"].rank(method=\"dense\", ascending=False).astype(int)\n",
    "\n",
    "# Sort the DataFrame by rank to ensure proper ordering\n",
    "your_run = your_run.sort_values(by=\"Rank\", ascending=True).reset_index(drop=True)\n",
    "\n",
    "# Normalize the scores using Min-Max normalization\n",
    "your_run['normalized_score'] = (\n",
    "    (your_run['score'] - your_run['score'].min()) /\n",
    "    (your_run['score'].max() - your_run['score'].min())\n",
    ")\n",
    "\n",
    "# Select and rename columns for the output format\n",
    "ranking = your_run[[\"Rank\", \"doc_id\", \"score\", \"normalized_score\"]]\n",
    "ranking.columns = [\"Rank\", \"Document ID\", \"Similarity Score\", \"Normalized Score\"]\n",
    "\n",
    "# Display the ranking table\n",
    "print(ranking)"
   ]
  },
  {
   "cell_type": "code",
   "execution_count": null,
   "metadata": {},
   "outputs": [],
   "source": [
    "# Calculate the average score across all rows\n",
    "average_score = your_run[\"normalized_score\"].mean()\n",
    "\n",
    "# Print the result\n",
    "print(f\"The average score across all query-document pairs is: {average_score:.4f}\")"
   ]
  },
  {
   "cell_type": "markdown",
   "metadata": {},
   "source": [
    "BM25 Evaluation\n"
   ]
  },
  {
   "cell_type": "code",
   "execution_count": 18,
   "metadata": {},
   "outputs": [
    {
     "name": "stdout",
     "output_type": "stream",
     "text": [
      "Results for BM25:  {nDCG@20: 0.0, R@100: 0.0, Judged@10: 0.0, AP: 0.0, P@5: 0.0, R@1000: 0.0, RR@10: 0.0}\n"
     ]
    }
   ],
   "source": [
    "import ir_measures\n",
    "from ir_measures import nDCG, P, Judged, RBP, AP, RR, R\n",
    "\n",
    "evaluation_metrics = ir_measures.calc_aggregate(\n",
    "    [\n",
    "        nDCG@20,  # Normalized Discounted Cumulative Gain @20\n",
    "        P@5,  # Precision @5\n",
    "        P(rel=1)@5,  # Precision for relevance level >=1 @5\n",
    "        Judged@10,  # Judged documents @10\n",
    "        R@100,  # Recall @100\n",
    "        R@1000,  # Recall @1000\n",
    "        AP,  # Average Precision\n",
    "        RR@10,  # Reciprocal Rank @10\n",
    "    ],\n",
    "    qrels,\n",
    "    your_run\n",
    ")\n",
    "print(\"Results for BM25: \",evaluation_metrics)\n"
   ]
  },
  {
   "cell_type": "code",
   "execution_count": 19,
   "metadata": {},
   "outputs": [
    {
     "name": "stdout",
     "output_type": "stream",
     "text": [
      "No overlapping query-doc pairs between run and qrels.\n"
     ]
    }
   ],
   "source": [
    "# Debugging why we have zeros\n",
    "\n",
    "# Inspect overlapping query-doc pairs\n",
    "overlap = pd.merge(your_run[['query_id', 'doc_id']], qrels[['query_id', 'doc_id']], on=['query_id', 'doc_id'], how='inner')\n",
    "if overlap.empty:\n",
    "    print(\"No overlapping query-doc pairs between run and qrels.\")\n",
    "else:\n",
    "    print(f\"Found {len(overlap)} overlapping entries.\")\n",
    "    print(overlap)\n"
   ]
  }
 ],
 "metadata": {
  "kernelspec": {
   "display_name": "Python 3 (ipykernel)",
   "language": "python",
   "name": "python3"
  },
  "language_info": {
   "codemirror_mode": {
    "name": "ipython",
    "version": 3
   },
   "file_extension": ".py",
   "mimetype": "text/x-python",
   "name": "python",
   "nbconvert_exporter": "python",
   "pygments_lexer": "ipython3",
   "version": "3.10.10"
  }
 },
 "nbformat": 4,
 "nbformat_minor": 4
}
