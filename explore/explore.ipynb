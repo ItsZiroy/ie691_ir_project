{
 "cells": [
  {
   "metadata": {
    "ExecuteTime": {
     "end_time": "2024-10-31T08:51:40.849106Z",
     "start_time": "2024-10-31T08:51:40.563914Z"
    }
   },
   "cell_type": "code",
   "source": [
    "import pandas as pd\n",
    "import ir_datasets"
   ],
   "id": "a7d1f1a7cd4d8f27",
   "outputs": [],
   "execution_count": 1
  },
  {
   "cell_type": "code",
   "id": "initial_id",
   "metadata": {
    "collapsed": true,
    "ExecuteTime": {
     "end_time": "2024-10-31T08:51:56.052519Z",
     "start_time": "2024-10-31T08:51:56.031268Z"
    }
   },
   "source": [
    "# mapping dataset to variable names\n",
    "dataset_vars = {\n",
    "    \"neuclir/1/fa\": \"fa\",\n",
    "    \"neuclir/1/fa/hc4-filtered\": \"fa_hc4_filtered\",\n",
    "    \"neuclir/1/fa/trec-2022\": \"fa_trec_2022\",\n",
    "    \"neuclir/1/fa/trec-2023\": \"fa_trec_2023\",\n",
    "    \"neuclir/1/multi\": \"multi\",\n",
    "    \"neuclir/1/multi/trec-2023\": \"multi_trec_2023\",\n",
    "    \"neuclir/1/ru\": \"ru\",\n",
    "    \"neuclir/1/ru/hc4-filtered\": \"ru_hc4_filtered\",\n",
    "    \"neuclir/1/ru/trec-2022\": \"ru_trec_2022\",\n",
    "    \"neuclir/1/ru/trec-2023\": \"ru_trec_2023\",\n",
    "    \"neuclir/1/zh\": \"zh\",\n",
    "    \"neuclir/1/zh/hc4-filtered\": \"zh_hc4_filtered\",\n",
    "    \"neuclir/1/zh/trec-2022\": \"zh_trec_2022\",\n",
    "    \"neuclir/1/zh/trec-2023\": \"zh_trec_2023\"\n",
    "}\n",
    "\n",
    "### DOC & QUERY COUNTS ###\n",
    "# loading each dataset\n",
    "loaded_datasets = {}\n",
    "for ds_id, var_name in dataset_vars.items():\n",
    "    try:\n",
    "        loaded_datasets[var_name] = ir_datasets.load(ds_id)\n",
    "        print(f\"Dataset: {var_name}\")\n",
    "        # print each dataset's document and query counts\n",
    "        if hasattr(loaded_datasets[var_name], 'docs_count'):\n",
    "            print(f\"  Number of documents: {loaded_datasets[var_name].docs_count()}\")\n",
    "        if hasattr(loaded_datasets[var_name], 'queries_count'):\n",
    "            print(f\"  Number of queries: {loaded_datasets[var_name].queries_count()}\")\n",
    "        if hasattr(loaded_datasets[var_name], 'qrels'):\n",
    "            print(f\"  Number of qrels: {loaded_datasets[var_name].qrels}\")\n",
    "    except Exception as e:\n",
    "        print(f\"Error loading dataset {var_name}: {e}\")\n",
    "    print(\"=\" * 40)"
   ],
   "outputs": [
    {
     "name": "stdout",
     "output_type": "stream",
     "text": [
      "Dataset: fa\n",
      "  Number of documents: 2232016\n",
      "========================================\n",
      "Dataset: fa_hc4_filtered\n",
      "  Number of documents: 391703\n",
      "  Number of queries: 60\n",
      "  Number of qrels: BetaPythonApiQrels(Dataset(id='neuclir/1/fa/hc4-filtered', provides=['docs', 'queries', 'qrels']))\n",
      "========================================\n",
      "Dataset: fa_trec_2022\n",
      "  Number of documents: 2232016\n",
      "  Number of queries: 46\n",
      "  Number of qrels: BetaPythonApiQrels(Dataset(id='neuclir/1/fa/trec-2022', provides=['docs', 'queries', 'qrels']))\n",
      "========================================\n",
      "Dataset: fa_trec_2023\n",
      "  Number of documents: 2232016\n",
      "  Number of queries: 76\n",
      "  Number of qrels: BetaPythonApiQrels(Dataset(id='neuclir/1/fa/trec-2023', provides=['docs', 'queries', 'qrels']))\n",
      "========================================\n",
      "Dataset: multi\n",
      "  Number of documents: 10038768\n",
      "========================================\n",
      "Dataset: multi_trec_2023\n",
      "  Number of documents: 10038768\n",
      "  Number of queries: 76\n",
      "  Number of qrels: BetaPythonApiQrels(Dataset(id='neuclir/1/multi/trec-2023', provides=['docs', 'queries', 'qrels']))\n",
      "========================================\n",
      "Dataset: ru\n",
      "  Number of documents: 4627543\n",
      "========================================\n",
      "Dataset: ru_hc4_filtered\n",
      "  Number of documents: 964719\n",
      "  Number of queries: 54\n",
      "  Number of qrels: BetaPythonApiQrels(Dataset(id='neuclir/1/ru/hc4-filtered', provides=['docs', 'queries', 'qrels']))\n",
      "========================================\n",
      "Dataset: ru_trec_2022\n",
      "  Number of documents: 4627543\n",
      "  Number of queries: 45\n",
      "  Number of qrels: BetaPythonApiQrels(Dataset(id='neuclir/1/ru/trec-2022', provides=['docs', 'queries', 'qrels']))\n",
      "========================================\n",
      "Dataset: ru_trec_2023\n",
      "  Number of documents: 4627543\n",
      "  Number of queries: 76\n",
      "  Number of qrels: BetaPythonApiQrels(Dataset(id='neuclir/1/ru/trec-2023', provides=['docs', 'queries', 'qrels']))\n",
      "========================================\n",
      "Dataset: zh\n",
      "  Number of documents: 3179209\n",
      "========================================\n",
      "Dataset: zh_hc4_filtered\n",
      "  Number of documents: 519945\n",
      "  Number of queries: 60\n",
      "  Number of qrels: BetaPythonApiQrels(Dataset(id='neuclir/1/zh/hc4-filtered', provides=['docs', 'queries', 'qrels']))\n",
      "========================================\n",
      "Dataset: zh_trec_2022\n",
      "  Number of documents: 3179209\n",
      "  Number of queries: 49\n",
      "  Number of qrels: BetaPythonApiQrels(Dataset(id='neuclir/1/zh/trec-2022', provides=['docs', 'queries', 'qrels']))\n",
      "========================================\n",
      "Dataset: zh_trec_2023\n",
      "  Number of documents: 3179209\n",
      "  Number of queries: 76\n",
      "  Number of qrels: BetaPythonApiQrels(Dataset(id='neuclir/1/zh/trec-2023', provides=['docs', 'queries', 'qrels']))\n",
      "========================================\n"
     ]
    }
   ],
   "execution_count": 2
  },
  {
   "metadata": {
    "ExecuteTime": {
     "end_time": "2024-10-31T08:57:10.705262Z",
     "start_time": "2024-10-31T08:57:10.683529Z"
    }
   },
   "cell_type": "code",
   "source": [
    "\n",
    "### EXPLORE PERSIAN DOC ###\n",
    "# load persian datasets\n",
    "persian_datasets = {\n",
    "    #\"fa\": loaded_datasets[\"fa\"],\n",
    "    \"fa_hc4_filtered\": loaded_datasets[\"fa_hc4_filtered\"],\n",
    "    #\"fa_trec_2022\": loaded_datasets[\"fa_trec_2022\"],\n",
    "    #\"fa_trec_2023\": loaded_datasets[\"fa_trec_2023\"]\n",
    "}\n",
    "\n",
    "df = pd.DataFrame()\n",
    "# display head of selected Persian dataset\n",
    "for var_name, dataset in persian_datasets.items():\n",
    "    print(f\"First document from dataset: {var_name}\")\n",
    "    print(f\"Docs in dataset: {dataset.docs_count()}\")\n",
    "    documents = [doc for doc in dataset.docs_iter()[:10]]\n",
    "    df = pd.DataFrame(documents)\n",
    "\n",
    "df.head()"
   ],
   "id": "6c70e51c60bb0aad",
   "outputs": [
    {
     "name": "stdout",
     "output_type": "stream",
     "text": [
      "First document from dataset: fa_hc4_filtered\n",
      "Docs in dataset: 391703\n"
     ]
    },
    {
     "data": {
      "text/plain": [
       "                                 doc_id  \\\n",
       "0  f5c30695-2fea-4a08-b87c-49a7e39c7945   \n",
       "1  c6900c70-f1b8-4157-a5f1-d38dba547dd6   \n",
       "2  8d9669f4-c2e2-495e-a425-503fafab2356   \n",
       "3  9bf618b0-c4a7-49a4-8516-45af79dc632a   \n",
       "4  698bcdca-b879-4c61-b03a-eaa8f016032b   \n",
       "\n",
       "                                               title  \\\n",
       "0                               کاهش نرخ رسمی ۲۵ ارز   \n",
       "1  سالروز ربوده شدن سردار احمد متوسلیان و همراهان...   \n",
       "2                        سالروز اجرای عملیات «ظفر ۲»   \n",
       "3             خسارتی از زلزله «بمپور» گزارش نشده است   \n",
       "4  سکه طرح جدید امروز ۱۴ آبان‌ماه، ۴ میلیون و ۷۵۰...   \n",
       "\n",
       "                                                text  \\\n",
       "0  امروز که همزمان با روز تعطیل رسمی در بازارهای ...   \n",
       "1  امروز ۱۴ تیرماه سالروز ربوده شدن چهار دیپلمات ...   \n",
       "2  پنجم تیرماه، سالروز اجرایی شدن عملیات «ظفر ۲» ...   \n",
       "3  عبدالرحمن شهنوازی در گفت وگو با خبرنگار مهر، ا...   \n",
       "4  به گزارش خبرنگار مهر، قیمت هر قطعه سکه تمام به...   \n",
       "\n",
       "                                                 url  \\\n",
       "0  https://www.irna.ir/news/83444978/%DA%A9%D8%A7...   \n",
       "1  https://www.isna.ir/news/98041306954/%D8%B3%D8...   \n",
       "2  https://www.isna.ir/news/98040502688/%D8%B3%D8...   \n",
       "3  https://www.mehrnews.com/news/4691573/%D8%AE%D...   \n",
       "4  https://www.mehrnews.com/news/4450707/%D8%B3%D...   \n",
       "\n",
       "                        time  \\\n",
       "0  2019-08-21T05:56:07+00:00   \n",
       "1  2019-07-04T22:30:00+00:00   \n",
       "2  2019-06-26T04:23:28+00:00   \n",
       "3  2019-08-13T10:34:08+00:00   \n",
       "4  2018-11-05T10:23:22+00:00   \n",
       "\n",
       "                                             cc_file  \n",
       "0  crawl-data/CC-NEWS/2019/08/CC-NEWS-20190821054...  \n",
       "1  crawl-data/CC-NEWS/2019/07/CC-NEWS-20190704202...  \n",
       "2  crawl-data/CC-NEWS/2019/06/CC-NEWS-20190626053...  \n",
       "3  crawl-data/CC-NEWS/2019/08/CC-NEWS-20190813100...  \n",
       "4  crawl-data/CC-NEWS/2018/11/CC-NEWS-20181105101...  "
      ],
      "text/html": [
       "<div>\n",
       "<style scoped>\n",
       "    .dataframe tbody tr th:only-of-type {\n",
       "        vertical-align: middle;\n",
       "    }\n",
       "\n",
       "    .dataframe tbody tr th {\n",
       "        vertical-align: top;\n",
       "    }\n",
       "\n",
       "    .dataframe thead th {\n",
       "        text-align: right;\n",
       "    }\n",
       "</style>\n",
       "<table border=\"1\" class=\"dataframe\">\n",
       "  <thead>\n",
       "    <tr style=\"text-align: right;\">\n",
       "      <th></th>\n",
       "      <th>doc_id</th>\n",
       "      <th>title</th>\n",
       "      <th>text</th>\n",
       "      <th>url</th>\n",
       "      <th>time</th>\n",
       "      <th>cc_file</th>\n",
       "    </tr>\n",
       "  </thead>\n",
       "  <tbody>\n",
       "    <tr>\n",
       "      <th>0</th>\n",
       "      <td>f5c30695-2fea-4a08-b87c-49a7e39c7945</td>\n",
       "      <td>کاهش نرخ رسمی ۲۵ ارز</td>\n",
       "      <td>امروز که همزمان با روز تعطیل رسمی در بازارهای ...</td>\n",
       "      <td>https://www.irna.ir/news/83444978/%DA%A9%D8%A7...</td>\n",
       "      <td>2019-08-21T05:56:07+00:00</td>\n",
       "      <td>crawl-data/CC-NEWS/2019/08/CC-NEWS-20190821054...</td>\n",
       "    </tr>\n",
       "    <tr>\n",
       "      <th>1</th>\n",
       "      <td>c6900c70-f1b8-4157-a5f1-d38dba547dd6</td>\n",
       "      <td>سالروز ربوده شدن سردار احمد متوسلیان و همراهان...</td>\n",
       "      <td>امروز ۱۴ تیرماه سالروز ربوده شدن چهار دیپلمات ...</td>\n",
       "      <td>https://www.isna.ir/news/98041306954/%D8%B3%D8...</td>\n",
       "      <td>2019-07-04T22:30:00+00:00</td>\n",
       "      <td>crawl-data/CC-NEWS/2019/07/CC-NEWS-20190704202...</td>\n",
       "    </tr>\n",
       "    <tr>\n",
       "      <th>2</th>\n",
       "      <td>8d9669f4-c2e2-495e-a425-503fafab2356</td>\n",
       "      <td>سالروز اجرای عملیات «ظفر ۲»</td>\n",
       "      <td>پنجم تیرماه، سالروز اجرایی شدن عملیات «ظفر ۲» ...</td>\n",
       "      <td>https://www.isna.ir/news/98040502688/%D8%B3%D8...</td>\n",
       "      <td>2019-06-26T04:23:28+00:00</td>\n",
       "      <td>crawl-data/CC-NEWS/2019/06/CC-NEWS-20190626053...</td>\n",
       "    </tr>\n",
       "    <tr>\n",
       "      <th>3</th>\n",
       "      <td>9bf618b0-c4a7-49a4-8516-45af79dc632a</td>\n",
       "      <td>خسارتی از زلزله «بمپور» گزارش نشده است</td>\n",
       "      <td>عبدالرحمن شهنوازی در گفت وگو با خبرنگار مهر، ا...</td>\n",
       "      <td>https://www.mehrnews.com/news/4691573/%D8%AE%D...</td>\n",
       "      <td>2019-08-13T10:34:08+00:00</td>\n",
       "      <td>crawl-data/CC-NEWS/2019/08/CC-NEWS-20190813100...</td>\n",
       "    </tr>\n",
       "    <tr>\n",
       "      <th>4</th>\n",
       "      <td>698bcdca-b879-4c61-b03a-eaa8f016032b</td>\n",
       "      <td>سکه طرح جدید امروز ۱۴ آبان‌ماه، ۴ میلیون و ۷۵۰...</td>\n",
       "      <td>به گزارش خبرنگار مهر، قیمت هر قطعه سکه تمام به...</td>\n",
       "      <td>https://www.mehrnews.com/news/4450707/%D8%B3%D...</td>\n",
       "      <td>2018-11-05T10:23:22+00:00</td>\n",
       "      <td>crawl-data/CC-NEWS/2018/11/CC-NEWS-20181105101...</td>\n",
       "    </tr>\n",
       "  </tbody>\n",
       "</table>\n",
       "</div>"
      ]
     },
     "execution_count": 9,
     "metadata": {},
     "output_type": "execute_result"
    }
   ],
   "execution_count": 9
  },
  {
   "metadata": {
    "ExecuteTime": {
     "end_time": "2024-10-31T08:54:47.087957Z",
     "start_time": "2024-10-31T08:54:42.501392Z"
    }
   },
   "cell_type": "code",
   "source": [
    "from explore.funcs import calculate_average_document_length\n",
    "\n",
    "avg_lengths_persian = calculate_average_document_length(persian_datasets)"
   ],
   "id": "de03745948df3be7",
   "outputs": [
    {
     "name": "stdout",
     "output_type": "stream",
     "text": [
      "Average document length in fa_hc4_filtered: 1973.53 characters\n"
     ]
    }
   ],
   "execution_count": 5
  }
 ],
 "metadata": {
  "kernelspec": {
   "display_name": "Python 3",
   "language": "python",
   "name": "python3"
  },
  "language_info": {
   "codemirror_mode": {
    "name": "ipython",
    "version": 2
   },
   "file_extension": ".py",
   "mimetype": "text/x-python",
   "name": "python",
   "nbconvert_exporter": "python",
   "pygments_lexer": "ipython2",
   "version": "2.7.6"
  }
 },
 "nbformat": 4,
 "nbformat_minor": 5
}
