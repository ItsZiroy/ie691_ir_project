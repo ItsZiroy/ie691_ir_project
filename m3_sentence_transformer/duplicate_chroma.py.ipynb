{
 "cells": [
  {
   "cell_type": "code",
   "id": "initial_id",
   "metadata": {
    "collapsed": true,
    "ExecuteTime": {
     "end_time": "2024-11-24T12:19:43.117556Z",
     "start_time": "2024-11-24T12:19:42.556044Z"
    }
   },
   "source": [
    "import chromadb\n",
    "\n",
    "chroma_client = chromadb.PersistentClient(path=\"./db\")\n",
    "collection = chroma_client.get_collection(name=\"neuclir-titles-ru-bge-m3\")"
   ],
   "outputs": [],
   "execution_count": 1
  },
  {
   "metadata": {
    "ExecuteTime": {
     "end_time": "2024-11-24T12:22:06.056069Z",
     "start_time": "2024-11-24T12:22:06.053271Z"
    }
   },
   "cell_type": "code",
   "source": "new_collection = chroma_client.get_or_create_collection(name=\"neuclir-titles-all-bge-m3\", metadata={\"hnsw:space\": \"cosine\"})",
   "id": "afe44d1e8da2a894",
   "outputs": [],
   "execution_count": 7
  },
  {
   "metadata": {
    "ExecuteTime": {
     "end_time": "2024-11-24T12:22:14.370833Z",
     "start_time": "2024-11-24T12:22:14.366741Z"
    }
   },
   "cell_type": "code",
   "source": [
    "def fetch_data(original_collection, batch_size, offset):\n",
    "    return original_collection.get(\n",
    "        ids=None,  # Retrieve all if no specific IDs are given\n",
    "        limit=batch_size,\n",
    "        offset=offset\n",
    "    )\n",
    "\n",
    "def add_data(new_collection, data):\n",
    "    new_collection.add(\n",
    "        ids=data[\"ids\"],\n",
    "        embeddings=data[\"embeddings\"],\n",
    "        documents=data[\"documents\"],\n",
    "        uris=data[\"uris\"],\n",
    "        metadatas=data[\"metadatas\"],\n",
    "    )"
   ],
   "id": "cbc7ca98c1339e89",
   "outputs": [],
   "execution_count": 8
  },
  {
   "metadata": {
    "jupyter": {
     "is_executing": true
    },
    "ExecuteTime": {
     "start_time": "2024-11-24T12:22:22.692909Z"
    }
   },
   "cell_type": "code",
   "source": [
    "from concurrent.futures import ThreadPoolExecutor, as_completed\n",
    "from tqdm.notebook import tqdm\n",
    "\n",
    "# Retrieve data in batches\n",
    "def duplicate_collection_in_batches(original_collection, new_collection, batch_size):\n",
    "    offset = 0\n",
    "    total_items = original_collection.count()  # Assuming there's a method to get the total count\n",
    "    with tqdm(total=total_items, desc=\"Duplicating Collection\") as pbar, ThreadPoolExecutor(max_workers=8) as executor:\n",
    "        futures = []\n",
    "        while True:\n",
    "            data = fetch_data(original_collection, batch_size, offset)\n",
    "            if len(data[\"ids\"]) == 0:\n",
    "                print(\"Duplication complete.\")\n",
    "                break\n",
    "\n",
    "            futures.append(executor.submit(add_data, new_collection, data))\n",
    "            offset += len(data[\"ids\"])\n",
    "\n",
    "        for future in as_completed(futures):\n",
    "            future.result()  # Ensure all threads have completed\n",
    "            pbar.update(len(data[\"ids\"]))\n",
    "\n",
    "\n",
    "# Call the duplication function\n",
    "duplicate_collection_in_batches(collection, new_collection, 1000)"
   ],
   "id": "c58dc6682090258d",
   "outputs": [
    {
     "data": {
      "text/plain": [
       "Duplicating Collection:   0%|          | 0/964719 [00:00<?, ?it/s]"
      ],
      "application/vnd.jupyter.widget-view+json": {
       "version_major": 2,
       "version_minor": 0,
       "model_id": "b0cd5e8ef072466eade432729cdcf796"
      }
     },
     "metadata": {},
     "output_type": "display_data"
    },
    {
     "name": "stdout",
     "output_type": "stream",
     "text": [
      "Duplication complete.\n"
     ]
    }
   ],
   "execution_count": null
  },
  {
   "metadata": {},
   "cell_type": "code",
   "outputs": [],
   "execution_count": null,
   "source": "assert new_collection.get() == collection.get()  # Check if the data matches",
   "id": "6cf7ee4a35ca4e86"
  }
 ],
 "metadata": {
  "kernelspec": {
   "display_name": "Python 3",
   "language": "python",
   "name": "python3"
  },
  "language_info": {
   "codemirror_mode": {
    "name": "ipython",
    "version": 2
   },
   "file_extension": ".py",
   "mimetype": "text/x-python",
   "name": "python",
   "nbconvert_exporter": "python",
   "pygments_lexer": "ipython2",
   "version": "2.7.6"
  }
 },
 "nbformat": 4,
 "nbformat_minor": 5
}
