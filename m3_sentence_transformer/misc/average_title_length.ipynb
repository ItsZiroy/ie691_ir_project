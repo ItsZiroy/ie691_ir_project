{
 "cells": [
  {
   "cell_type": "code",
   "id": "initial_id",
   "metadata": {
    "collapsed": true,
    "ExecuteTime": {
     "end_time": "2024-12-05T12:59:35.146690Z",
     "start_time": "2024-12-05T12:56:59.966096Z"
    }
   },
   "source": [
    "import ir_datasets\n",
    "import pandas as pd\n",
    "dataset = ir_datasets.load(\"neuclir/1/multi/trec-2023\")\n",
    "\n",
    "sum = 0\n",
    "for doc in dataset.docs_iter():\n",
    "    sum += len(doc.title)\n",
    "\n",
    "avg_title_length = sum / dataset.docs_count()\n",
    "\n",
    "print(avg_title_length)"
   ],
   "outputs": [
    {
     "name": "stdout",
     "output_type": "stream",
     "text": [
      "50.69191956622566\n"
     ]
    }
   ],
   "execution_count": 5
  },
  {
   "metadata": {},
   "cell_type": "code",
   "outputs": [],
   "execution_count": null,
   "source": "# average title length\n",
   "id": "116a402a39086531"
  }
 ],
 "metadata": {
  "kernelspec": {
   "display_name": "Python 3",
   "language": "python",
   "name": "python3"
  },
  "language_info": {
   "codemirror_mode": {
    "name": "ipython",
    "version": 2
   },
   "file_extension": ".py",
   "mimetype": "text/x-python",
   "name": "python",
   "nbconvert_exporter": "python",
   "pygments_lexer": "ipython2",
   "version": "2.7.6"
  }
 },
 "nbformat": 4,
 "nbformat_minor": 5
}
