{
 "cells": [
  {
   "cell_type": "code",
   "id": "initial_id",
   "metadata": {
    "collapsed": true,
    "ExecuteTime": {
     "end_time": "2024-11-24T11:08:15.453446Z",
     "start_time": "2024-11-24T11:08:02.178953Z"
    }
   },
   "source": [
    "import pandas as pd\n",
    "import numpy as np\n",
    "\n",
    "from FlagEmbedding import BGEM3FlagModel\n",
    "import chromadb\n",
    "\n",
    "import ir_measures\n",
    "from ir_measures import *\n",
    "\n",
    "from m3_sentence_transformer.data_sampler import DataSampler\n",
    "\n",
    "model = BGEM3FlagModel(\"BAAI/bge-m3\", use_fp16=True)\n",
    "chroma_client = chromadb.PersistentClient(path=\"../db\")\n",
    "collection = chroma_client.get_collection(name=\"neuclir-titles-ru-bge-m3\")\n"
   ],
   "outputs": [
    {
     "name": "stderr",
     "output_type": "stream",
     "text": [
      "/Users/I551385/Library/Caches/pypoetry/virtualenvs/ie691-ir-project-u22LL72s-py3.12/lib/python3.12/site-packages/cwl/ruler/cwl_ruler.py:171: SyntaxWarning: invalid escape sequence '\\_'\n",
      "  eval_tool_bibtex = \"\"\"\n",
      "/Users/I551385/Library/Caches/pypoetry/virtualenvs/ie691-ir-project-u22LL72s-py3.12/lib/python3.12/site-packages/cwl/ruler/measures/cwl_ift.py:39: SyntaxWarning: invalid escape sequence '\\&'\n",
      "  \"booktitle = {The 41st International ACM SIGIR Conference on Research \\&\\#38; Development in Information Retrieval},\" \\\n",
      "/Users/I551385/Library/Caches/pypoetry/virtualenvs/ie691-ir-project-u22LL72s-py3.12/lib/python3.12/site-packages/cwl/ruler/measures/cwl_ift.py:75: SyntaxWarning: invalid escape sequence '\\&'\n",
      "  \"booktitle = {The 41st International ACM SIGIR Conference on Research \\&\\#38; Development in Information Retrieval},\" \\\n",
      "/Users/I551385/Library/Caches/pypoetry/virtualenvs/ie691-ir-project-u22LL72s-py3.12/lib/python3.12/site-packages/cwl/ruler/measures/cwl_ift.py:116: SyntaxWarning: invalid escape sequence '\\&'\n",
      "  self.bibtex = \"\"\"\n"
     ]
    },
    {
     "data": {
      "text/plain": [
       "Fetching 30 files:   0%|          | 0/30 [00:00<?, ?it/s]"
      ],
      "application/vnd.jupyter.widget-view+json": {
       "version_major": 2,
       "version_minor": 0,
       "model_id": "5cc5416dfe004eb7878a1a4a8bf1235d"
      }
     },
     "metadata": {},
     "output_type": "display_data"
    }
   ],
   "execution_count": 1
  },
  {
   "metadata": {
    "ExecuteTime": {
     "end_time": "2024-11-24T11:09:26.796736Z",
     "start_time": "2024-11-24T11:08:15.455957Z"
    }
   },
   "cell_type": "code",
   "source": "sampler = DataSampler(\"ru\")",
   "id": "a9672d4365fc1e9c",
   "outputs": [],
   "execution_count": 2
  },
  {
   "metadata": {
    "ExecuteTime": {
     "end_time": "2024-11-24T11:43:20.451892Z",
     "start_time": "2024-11-24T11:43:20.387502Z"
    }
   },
   "cell_type": "code",
   "source": "print(len(sampler.valid_queries()))",
   "id": "d9a415b38be0326c",
   "outputs": [
    {
     "name": "stdout",
     "output_type": "stream",
     "text": [
      "680\n"
     ]
    }
   ],
   "execution_count": 9
  },
  {
   "metadata": {
    "ExecuteTime": {
     "end_time": "2024-11-24T11:44:02.820632Z",
     "start_time": "2024-11-24T11:44:02.798857Z"
    }
   },
   "cell_type": "code",
   "source": [
    "sample = sampler.sample_queries(54)\n",
    "\n",
    "sample.head()"
   ],
   "id": "f51f6190de1eed5",
   "outputs": [
    {
     "data": {
      "text/plain": [
       "  query_id                                doc_id  relevance iteration  \\\n",
       "0        3  1822ae6f-ad85-4091-8a8c-0e0e5001733c          0         0   \n",
       "1        3  1b41d078-73fb-41ef-90b9-8fa8be881911          1         0   \n",
       "2        3  2ef38f45-30d3-4473-b2aa-f498fe707725          0         0   \n",
       "3        3  4fd2ede3-3ed9-4276-b14c-a54dbba19e95          0         0   \n",
       "4        3  92d40f5c-7368-4637-856e-c060f8633f8f          0         0   \n",
       "\n",
       "                        title  \\\n",
       "0  British royal news impacts   \n",
       "1  British royal news impacts   \n",
       "2  British royal news impacts   \n",
       "3  British royal news impacts   \n",
       "4  British royal news impacts   \n",
       "\n",
       "                                         description  \\\n",
       "0  What political and economic impacts does news ...   \n",
       "1  What political and economic impacts does news ...   \n",
       "2  What political and economic impacts does news ...   \n",
       "3  What political and economic impacts does news ...   \n",
       "4  What political and economic impacts does news ...   \n",
       "\n",
       "                                  ht_title  \\\n",
       "0  Влияние британских королевских новостей   \n",
       "1  Влияние британских королевских новостей   \n",
       "2  Влияние британских королевских новостей   \n",
       "3  Влияние британских королевских новостей   \n",
       "4  Влияние британских королевских новостей   \n",
       "\n",
       "                                      ht_description  \\\n",
       "0  Какое политическое и экономическое влияние нов...   \n",
       "1  Какое политическое и экономическое влияние нов...   \n",
       "2  Какое политическое и экономическое влияние нов...   \n",
       "3  Какое политическое и экономическое влияние нов...   \n",
       "4  Какое политическое и экономическое влияние нов...   \n",
       "\n",
       "                                mt_title  \\\n",
       "0  Британские королевские новости влияют   \n",
       "1  Британские королевские новости влияют   \n",
       "2  Британские королевские новости влияют   \n",
       "3  Британские королевские новости влияют   \n",
       "4  Британские королевские новости влияют   \n",
       "\n",
       "                                      mt_description  \\\n",
       "0  Какие политические и экономические последствия...   \n",
       "1  Какие политические и экономические последствия...   \n",
       "2  Какие политические и экономические последствия...   \n",
       "3  Какие политические и экономические последствия...   \n",
       "4  Какие политические и экономические последствия...   \n",
       "\n",
       "                              narrative_by_relevance  \\\n",
       "0  {'very_valuable': 'Information regarding econo...   \n",
       "1  {'very_valuable': 'Information regarding econo...   \n",
       "2  {'very_valuable': 'Information regarding econo...   \n",
       "3  {'very_valuable': 'Information regarding econo...   \n",
       "4  {'very_valuable': 'Information regarding econo...   \n",
       "\n",
       "                                              report  \\\n",
       "0  Announcement of engagement\\nPrincess Eugenie o...   \n",
       "1  Announcement of engagement\\nPrincess Eugenie o...   \n",
       "2  Announcement of engagement\\nPrincess Eugenie o...   \n",
       "3  Announcement of engagement\\nPrincess Eugenie o...   \n",
       "4  Announcement of engagement\\nPrincess Eugenie o...   \n",
       "\n",
       "                                          report_url report_date  \\\n",
       "0  https://en.wikipedia.org/w/index.php?title=Wed...  2018-05-13   \n",
       "1  https://en.wikipedia.org/w/index.php?title=Wed...  2018-05-13   \n",
       "2  https://en.wikipedia.org/w/index.php?title=Wed...  2018-05-13   \n",
       "3  https://en.wikipedia.org/w/index.php?title=Wed...  2018-05-13   \n",
       "4  https://en.wikipedia.org/w/index.php?title=Wed...  2018-05-13   \n",
       "\n",
       "  translation_lang  \n",
       "0               ru  \n",
       "1               ru  \n",
       "2               ru  \n",
       "3               ru  \n",
       "4               ru  "
      ],
      "text/html": [
       "<div>\n",
       "<style scoped>\n",
       "    .dataframe tbody tr th:only-of-type {\n",
       "        vertical-align: middle;\n",
       "    }\n",
       "\n",
       "    .dataframe tbody tr th {\n",
       "        vertical-align: top;\n",
       "    }\n",
       "\n",
       "    .dataframe thead th {\n",
       "        text-align: right;\n",
       "    }\n",
       "</style>\n",
       "<table border=\"1\" class=\"dataframe\">\n",
       "  <thead>\n",
       "    <tr style=\"text-align: right;\">\n",
       "      <th></th>\n",
       "      <th>query_id</th>\n",
       "      <th>doc_id</th>\n",
       "      <th>relevance</th>\n",
       "      <th>iteration</th>\n",
       "      <th>title</th>\n",
       "      <th>description</th>\n",
       "      <th>ht_title</th>\n",
       "      <th>ht_description</th>\n",
       "      <th>mt_title</th>\n",
       "      <th>mt_description</th>\n",
       "      <th>narrative_by_relevance</th>\n",
       "      <th>report</th>\n",
       "      <th>report_url</th>\n",
       "      <th>report_date</th>\n",
       "      <th>translation_lang</th>\n",
       "    </tr>\n",
       "  </thead>\n",
       "  <tbody>\n",
       "    <tr>\n",
       "      <th>0</th>\n",
       "      <td>3</td>\n",
       "      <td>1822ae6f-ad85-4091-8a8c-0e0e5001733c</td>\n",
       "      <td>0</td>\n",
       "      <td>0</td>\n",
       "      <td>British royal news impacts</td>\n",
       "      <td>What political and economic impacts does news ...</td>\n",
       "      <td>Влияние британских королевских новостей</td>\n",
       "      <td>Какое политическое и экономическое влияние нов...</td>\n",
       "      <td>Британские королевские новости влияют</td>\n",
       "      <td>Какие политические и экономические последствия...</td>\n",
       "      <td>{'very_valuable': 'Information regarding econo...</td>\n",
       "      <td>Announcement of engagement\\nPrincess Eugenie o...</td>\n",
       "      <td>https://en.wikipedia.org/w/index.php?title=Wed...</td>\n",
       "      <td>2018-05-13</td>\n",
       "      <td>ru</td>\n",
       "    </tr>\n",
       "    <tr>\n",
       "      <th>1</th>\n",
       "      <td>3</td>\n",
       "      <td>1b41d078-73fb-41ef-90b9-8fa8be881911</td>\n",
       "      <td>1</td>\n",
       "      <td>0</td>\n",
       "      <td>British royal news impacts</td>\n",
       "      <td>What political and economic impacts does news ...</td>\n",
       "      <td>Влияние британских королевских новостей</td>\n",
       "      <td>Какое политическое и экономическое влияние нов...</td>\n",
       "      <td>Британские королевские новости влияют</td>\n",
       "      <td>Какие политические и экономические последствия...</td>\n",
       "      <td>{'very_valuable': 'Information regarding econo...</td>\n",
       "      <td>Announcement of engagement\\nPrincess Eugenie o...</td>\n",
       "      <td>https://en.wikipedia.org/w/index.php?title=Wed...</td>\n",
       "      <td>2018-05-13</td>\n",
       "      <td>ru</td>\n",
       "    </tr>\n",
       "    <tr>\n",
       "      <th>2</th>\n",
       "      <td>3</td>\n",
       "      <td>2ef38f45-30d3-4473-b2aa-f498fe707725</td>\n",
       "      <td>0</td>\n",
       "      <td>0</td>\n",
       "      <td>British royal news impacts</td>\n",
       "      <td>What political and economic impacts does news ...</td>\n",
       "      <td>Влияние британских королевских новостей</td>\n",
       "      <td>Какое политическое и экономическое влияние нов...</td>\n",
       "      <td>Британские королевские новости влияют</td>\n",
       "      <td>Какие политические и экономические последствия...</td>\n",
       "      <td>{'very_valuable': 'Information regarding econo...</td>\n",
       "      <td>Announcement of engagement\\nPrincess Eugenie o...</td>\n",
       "      <td>https://en.wikipedia.org/w/index.php?title=Wed...</td>\n",
       "      <td>2018-05-13</td>\n",
       "      <td>ru</td>\n",
       "    </tr>\n",
       "    <tr>\n",
       "      <th>3</th>\n",
       "      <td>3</td>\n",
       "      <td>4fd2ede3-3ed9-4276-b14c-a54dbba19e95</td>\n",
       "      <td>0</td>\n",
       "      <td>0</td>\n",
       "      <td>British royal news impacts</td>\n",
       "      <td>What political and economic impacts does news ...</td>\n",
       "      <td>Влияние британских королевских новостей</td>\n",
       "      <td>Какое политическое и экономическое влияние нов...</td>\n",
       "      <td>Британские королевские новости влияют</td>\n",
       "      <td>Какие политические и экономические последствия...</td>\n",
       "      <td>{'very_valuable': 'Information regarding econo...</td>\n",
       "      <td>Announcement of engagement\\nPrincess Eugenie o...</td>\n",
       "      <td>https://en.wikipedia.org/w/index.php?title=Wed...</td>\n",
       "      <td>2018-05-13</td>\n",
       "      <td>ru</td>\n",
       "    </tr>\n",
       "    <tr>\n",
       "      <th>4</th>\n",
       "      <td>3</td>\n",
       "      <td>92d40f5c-7368-4637-856e-c060f8633f8f</td>\n",
       "      <td>0</td>\n",
       "      <td>0</td>\n",
       "      <td>British royal news impacts</td>\n",
       "      <td>What political and economic impacts does news ...</td>\n",
       "      <td>Влияние британских королевских новостей</td>\n",
       "      <td>Какое политическое и экономическое влияние нов...</td>\n",
       "      <td>Британские королевские новости влияют</td>\n",
       "      <td>Какие политические и экономические последствия...</td>\n",
       "      <td>{'very_valuable': 'Information regarding econo...</td>\n",
       "      <td>Announcement of engagement\\nPrincess Eugenie o...</td>\n",
       "      <td>https://en.wikipedia.org/w/index.php?title=Wed...</td>\n",
       "      <td>2018-05-13</td>\n",
       "      <td>ru</td>\n",
       "    </tr>\n",
       "  </tbody>\n",
       "</table>\n",
       "</div>"
      ]
     },
     "execution_count": 13,
     "metadata": {},
     "output_type": "execute_result"
    }
   ],
   "execution_count": 13
  },
  {
   "metadata": {
    "ExecuteTime": {
     "end_time": "2024-11-24T11:45:15.823553Z",
     "start_time": "2024-11-24T11:45:08.573414Z"
    }
   },
   "cell_type": "code",
   "source": [
    "grouped = sample.groupby(\"query_id\").first().reset_index()\n",
    "\n",
    "queries = grouped[\"description\"].tolist()\n",
    "\n",
    "query_embeddings = model.encode(queries, return_dense=True, return_sparse=False, return_colbert_vecs=False)\n",
    "\n",
    "query_embedding_pairs = list(zip(grouped[\"query_id\"], query_embeddings['dense_vecs']))\n",
    "\n",
    "len(query_embedding_pairs)"
   ],
   "id": "29bf1f721398c369",
   "outputs": [
    {
     "data": {
      "text/plain": [
       "54"
      ]
     },
     "execution_count": 14,
     "metadata": {},
     "output_type": "execute_result"
    }
   ],
   "execution_count": 14
  },
  {
   "metadata": {
    "ExecuteTime": {
     "end_time": "2024-11-24T11:45:51.112611Z",
     "start_time": "2024-11-24T11:45:15.884561Z"
    }
   },
   "cell_type": "code",
   "source": [
    "results = []\n",
    "for (q, e) in query_embedding_pairs:\n",
    " results.append(collection.query(query_embeddings=e, n_results=1000))\n",
    "\n",
    "len(results)\n"
   ],
   "id": "9a014002782de56",
   "outputs": [
    {
     "data": {
      "text/plain": [
       "54"
      ]
     },
     "execution_count": 15,
     "metadata": {},
     "output_type": "execute_result"
    }
   ],
   "execution_count": 15
  },
  {
   "metadata": {
    "ExecuteTime": {
     "end_time": "2024-11-24T11:45:51.390820Z",
     "start_time": "2024-11-24T11:45:51.276851Z"
    }
   },
   "cell_type": "code",
   "source": [
    "# Initialize an empty list to hold rows\n",
    "data = []\n",
    "\n",
    "# Loop through each query and corresponding results\n",
    "for i, (q, e) in enumerate(query_embedding_pairs):\n",
    "    doc_ids = results[i][\"ids\"][0] # Extract document IDs\n",
    "    scores = 1 - np.array(results[i][\"distances\"][0])  # Convert distances to scores\n",
    "    # Append a row for each doc_id and its corresponding query_id and score\n",
    "    for doc_id, score in zip(doc_ids, scores):\n",
    "          data.append({\"query_id\": q, \"doc_id\": doc_id, \"score\": score})\n",
    "\n",
    "# Convert to a DataFrame\n",
    "df = pd.DataFrame(data)\n"
   ],
   "id": "e6b84846a9a66145",
   "outputs": [],
   "execution_count": 16
  },
  {
   "metadata": {
    "ExecuteTime": {
     "end_time": "2024-11-24T11:09:49.950158Z",
     "start_time": "2024-11-24T11:09:49.946537Z"
    }
   },
   "cell_type": "code",
   "source": "df",
   "id": "abd7cd104c495743",
   "outputs": [
    {
     "data": {
      "text/plain": [
       "      query_id                                doc_id     score\n",
       "0          101  4ccdbb8e-a309-49cf-b4a5-98c3b7383ff2  0.643805\n",
       "1          101  aa109572-7b1b-4dda-85c5-35c5c0ee9e72  0.622699\n",
       "2          101  1023b31b-eff0-482e-beb5-74218d220a2e  0.618924\n",
       "3          101  b022741a-f4d2-4c70-8ed0-9a59ff4e7b42  0.592747\n",
       "4          101  2233a939-8bbc-4aaf-9f89-86b67f95440b  0.583458\n",
       "...        ...                                   ...       ...\n",
       "49995        6  f400c611-84bc-4e05-8d40-e159adabc6ad  0.446992\n",
       "49996        6  4060f626-c515-4e9c-a35a-a7415a6c47b9  0.446962\n",
       "49997        6  e99554fc-4c20-4407-bfaa-f7bbbf27579f  0.446915\n",
       "49998        6  d0905ae0-f326-4281-ac29-efc938dba55a  0.446864\n",
       "49999        6  a3ce6e55-6a23-4519-a218-c1f71b13bbe7  0.446846\n",
       "\n",
       "[50000 rows x 3 columns]"
      ],
      "text/html": [
       "<div>\n",
       "<style scoped>\n",
       "    .dataframe tbody tr th:only-of-type {\n",
       "        vertical-align: middle;\n",
       "    }\n",
       "\n",
       "    .dataframe tbody tr th {\n",
       "        vertical-align: top;\n",
       "    }\n",
       "\n",
       "    .dataframe thead th {\n",
       "        text-align: right;\n",
       "    }\n",
       "</style>\n",
       "<table border=\"1\" class=\"dataframe\">\n",
       "  <thead>\n",
       "    <tr style=\"text-align: right;\">\n",
       "      <th></th>\n",
       "      <th>query_id</th>\n",
       "      <th>doc_id</th>\n",
       "      <th>score</th>\n",
       "    </tr>\n",
       "  </thead>\n",
       "  <tbody>\n",
       "    <tr>\n",
       "      <th>0</th>\n",
       "      <td>101</td>\n",
       "      <td>4ccdbb8e-a309-49cf-b4a5-98c3b7383ff2</td>\n",
       "      <td>0.643805</td>\n",
       "    </tr>\n",
       "    <tr>\n",
       "      <th>1</th>\n",
       "      <td>101</td>\n",
       "      <td>aa109572-7b1b-4dda-85c5-35c5c0ee9e72</td>\n",
       "      <td>0.622699</td>\n",
       "    </tr>\n",
       "    <tr>\n",
       "      <th>2</th>\n",
       "      <td>101</td>\n",
       "      <td>1023b31b-eff0-482e-beb5-74218d220a2e</td>\n",
       "      <td>0.618924</td>\n",
       "    </tr>\n",
       "    <tr>\n",
       "      <th>3</th>\n",
       "      <td>101</td>\n",
       "      <td>b022741a-f4d2-4c70-8ed0-9a59ff4e7b42</td>\n",
       "      <td>0.592747</td>\n",
       "    </tr>\n",
       "    <tr>\n",
       "      <th>4</th>\n",
       "      <td>101</td>\n",
       "      <td>2233a939-8bbc-4aaf-9f89-86b67f95440b</td>\n",
       "      <td>0.583458</td>\n",
       "    </tr>\n",
       "    <tr>\n",
       "      <th>...</th>\n",
       "      <td>...</td>\n",
       "      <td>...</td>\n",
       "      <td>...</td>\n",
       "    </tr>\n",
       "    <tr>\n",
       "      <th>49995</th>\n",
       "      <td>6</td>\n",
       "      <td>f400c611-84bc-4e05-8d40-e159adabc6ad</td>\n",
       "      <td>0.446992</td>\n",
       "    </tr>\n",
       "    <tr>\n",
       "      <th>49996</th>\n",
       "      <td>6</td>\n",
       "      <td>4060f626-c515-4e9c-a35a-a7415a6c47b9</td>\n",
       "      <td>0.446962</td>\n",
       "    </tr>\n",
       "    <tr>\n",
       "      <th>49997</th>\n",
       "      <td>6</td>\n",
       "      <td>e99554fc-4c20-4407-bfaa-f7bbbf27579f</td>\n",
       "      <td>0.446915</td>\n",
       "    </tr>\n",
       "    <tr>\n",
       "      <th>49998</th>\n",
       "      <td>6</td>\n",
       "      <td>d0905ae0-f326-4281-ac29-efc938dba55a</td>\n",
       "      <td>0.446864</td>\n",
       "    </tr>\n",
       "    <tr>\n",
       "      <th>49999</th>\n",
       "      <td>6</td>\n",
       "      <td>a3ce6e55-6a23-4519-a218-c1f71b13bbe7</td>\n",
       "      <td>0.446846</td>\n",
       "    </tr>\n",
       "  </tbody>\n",
       "</table>\n",
       "<p>50000 rows × 3 columns</p>\n",
       "</div>"
      ]
     },
     "execution_count": 7,
     "metadata": {},
     "output_type": "execute_result"
    }
   ],
   "execution_count": 7
  },
  {
   "metadata": {
    "ExecuteTime": {
     "end_time": "2024-11-24T11:48:16.727513Z",
     "start_time": "2024-11-24T11:48:16.456170Z"
    }
   },
   "cell_type": "code",
   "source": [
    "\n",
    "measures = ir_measures.calc_aggregate([nDCG@20, P@5, MRR@10, P(rel=1)@5, Judged@10, MAP, RBP(rel=1), R@100, R@1000], sample[[\"query_id\", \"doc_id\", \"relevance\"]], df)\n",
    "\n",
    "measures"
   ],
   "id": "ed3e7fe777e7aa7d",
   "outputs": [
    {
     "data": {
      "text/plain": [
       "{Judged@10: 0.16481481481481475,\n",
       " R@1000: 0.6994789161455828,\n",
       " AP: 0.15629194591331602,\n",
       " RR@10: 0.2221119929453263,\n",
       " R@100: 0.3865119448452781,\n",
       " P@5: 0.10740740740740742,\n",
       " nDCG@20: 0.20665949674572437,\n",
       " RBP(rel=1): np.float64(0.09455150748155751)}"
      ]
     },
     "execution_count": 20,
     "metadata": {},
     "output_type": "execute_result"
    }
   ],
   "execution_count": 20
  }
 ],
 "metadata": {
  "kernelspec": {
   "display_name": "Python 3",
   "language": "python",
   "name": "python3"
  },
  "language_info": {
   "codemirror_mode": {
    "name": "ipython",
    "version": 2
   },
   "file_extension": ".py",
   "mimetype": "text/x-python",
   "name": "python",
   "nbconvert_exporter": "python",
   "pygments_lexer": "ipython2",
   "version": "2.7.6"
  }
 },
 "nbformat": 4,
 "nbformat_minor": 5
}
