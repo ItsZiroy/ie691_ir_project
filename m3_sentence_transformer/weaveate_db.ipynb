{
 "cells": [
  {
   "metadata": {
    "ExecuteTime": {
     "end_time": "2024-11-24T19:58:16.158372Z",
     "start_time": "2024-11-24T19:58:15.303855Z"
    }
   },
   "cell_type": "code",
   "source": [
    "from FlagEmbedding import BGEM3FlagModel\n",
    "from tqdm.notebook import tqdm\n",
    "from dotenv import load_dotenv\n",
    "import os\n",
    "load_dotenv()\n",
    "\n",
    "model = BGEM3FlagModel(\"BAAI/bge-m3\", use_fp16=True)"
   ],
   "id": "9f0834eb1605c2cc",
   "outputs": [
    {
     "data": {
      "text/plain": [
       "Fetching 30 files:   0%|          | 0/30 [00:00<?, ?it/s]"
      ],
      "application/vnd.jupyter.widget-view+json": {
       "version_major": 2,
       "version_minor": 0,
       "model_id": "c5fa0776460c4911b496867c470fc973"
      }
     },
     "metadata": {},
     "output_type": "display_data"
    }
   ],
   "execution_count": 69
  },
  {
   "cell_type": "code",
   "id": "initial_id",
   "metadata": {
    "collapsed": true,
    "ExecuteTime": {
     "end_time": "2024-11-24T19:59:42.854610Z",
     "start_time": "2024-11-24T19:59:42.510256Z"
    }
   },
   "source": [
    "import weaviate\n",
    "import weaviate.classes as wvc\n",
    "client = weaviate.connect_to_custom(http_host=os.getenv(\"WEAVIATE_HTTP_HOST\"),http_port=int(os.getenv(\"WEAVIATE_HTTP_PORT\")), http_secure=True, grpc_host=os.getenv(\"WEAVIATE_GRPC_HOST\"), grpc_port=int(os.getenv(\"WEAVIATE_GRPC_PORT\")), grpc_secure=True, auth_credentials=weaviate.auth.AuthApiKey(api_key=os.getenv(\"WEAVIATE_API_KEY\")))"
   ],
   "outputs": [],
   "execution_count": 70
  },
  {
   "metadata": {
    "ExecuteTime": {
     "end_time": "2024-11-24T20:07:29.527435Z",
     "start_time": "2024-11-24T20:07:29.377046Z"
    }
   },
   "cell_type": "code",
   "source": "client.collections.delete(\"hc4_filtered_bge_m3\")",
   "id": "f5a24c0a420b473",
   "outputs": [],
   "execution_count": 74
  },
  {
   "metadata": {
    "ExecuteTime": {
     "end_time": "2024-11-24T20:07:30.490477Z",
     "start_time": "2024-11-24T20:07:30.283811Z"
    }
   },
   "cell_type": "code",
   "source": [
    "try:\n",
    "    documents = client.collections.create(\n",
    "        name=\"hc4_filtered_bge_m3\",\n",
    "        vectorizer_config=[\n",
    "            wvc.config.Configure.NamedVectors.none(\n",
    "                name=\"title_dense\"   \n",
    "            ),\n",
    "            wvc.config.Configure.NamedVectors.none(  \n",
    "                name=\"text_dense\"\n",
    "            ),\n",
    "        ],\n",
    "        properties=[\n",
    "            wvc.config.Property(\n",
    "                name=\"doc_id\",\n",
    "                data_type=wvc.config.DataType.UUID,\n",
    "            ),\n",
    "            wvc.config.Property(\n",
    "                name=\"title_sparse\",\n",
    "                data_type=wvc.config.DataType.BLOB,\n",
    "            ),\n",
    "              wvc.config.Property(\n",
    "                name=\"document_sparse\",\n",
    "                data_type=wvc.config.DataType.BLOB,\n",
    "            ),\n",
    "            wvc.config.Property(\n",
    "                name=\"title_colbert\",\n",
    "                data_type=wvc.config.DataType.BLOB,\n",
    "            ),\n",
    "           wvc.config.Property(\n",
    "                name=\"document_colbert\",\n",
    "                data_type=wvc.config.DataType.BLOB,\n",
    "            ),\n",
    "            wvc.config.Property(\n",
    "                name=\"title\",\n",
    "                data_type=wvc.config.DataType.TEXT,\n",
    "            ),\n",
    "            wvc.config.Property(\n",
    "                name=\"text\",\n",
    "                data_type=wvc.config.DataType.TEXT,\n",
    "            ),\n",
    "            wvc.config.Property(\n",
    "                name=\"url\",\n",
    "                data_type=wvc.config.DataType.TEXT,\n",
    "            )\n",
    "        ])\n",
    "except Exception as e:\n",
    "    print(e)\n",
    "    "
   ],
   "id": "ad1e0841b2063e84",
   "outputs": [],
   "execution_count": 75
  },
  {
   "metadata": {
    "ExecuteTime": {
     "end_time": "2024-11-24T19:46:49.674537Z",
     "start_time": "2024-11-24T19:44:29.987347Z"
    }
   },
   "cell_type": "code",
   "source": [
    "import pandas as pd\n",
    "from explore.funcs import load_datasets\n",
    "\n",
    "datasets = load_datasets([\"zh\", \"ru\", \"fa\"])\n",
    "\n",
    "docs = pd.concat([pd.DataFrame(dataset.docs_iter()) for dataset in datasets.values()])\n",
    "\n",
    "len(docs)"
   ],
   "id": "823c74b126a2840e",
   "outputs": [
    {
     "data": {
      "text/plain": [
       "1876367"
      ]
     },
     "execution_count": 55,
     "metadata": {},
     "output_type": "execute_result"
    }
   ],
   "execution_count": 55
  },
  {
   "metadata": {
    "ExecuteTime": {
     "end_time": "2024-11-24T18:47:53.403959Z",
     "start_time": "2024-11-24T18:47:53.402117Z"
    }
   },
   "cell_type": "code",
   "source": [
    "import base64\n",
    "def to_blob(obj):\n",
    "    return base64.b64encode(pickle.dumps(obj)).decode('utf-8')"
   ],
   "id": "662db154dede72e",
   "outputs": [],
   "execution_count": 6
  },
  {
   "metadata": {
    "ExecuteTime": {
     "end_time": "2024-11-24T19:48:12.201793Z",
     "start_time": "2024-11-24T19:47:06.906191Z"
    }
   },
   "cell_type": "code",
   "source": [
    "import pickle\n",
    "\n",
    "batches = [docs[i:i+10000] for i in range(0, len(docs), 10000)]\n",
    "zh = client.collections.get(\"neuclir_bge_m3\")\n",
    "\n",
    "outer_progress = tqdm(total=len(docs))\n",
    "\n",
    "for i, batch in enumerate(batches):\n",
    "    title_embeddings = model.encode(batch[\"title\"].to_list(), return_dense=True, return_sparse=True, return_colbert_vecs=True)\n",
    "    #doc_embeddings = model.encode(batch[\"text\"].to_list(), return_dense=True, return_sparse=True, return_colbert_vecs=False)\n",
    "    title_sparse_blobs = [to_blob(x) for x in title_embeddings[\"lexical_weights\"]]\n",
    "    title_colbert_blobs = [to_blob(x) for x in title_embeddings[\"colbert_vecs\"]]\n",
    "    batch = batch.reset_index(drop=True)\n",
    "    with zh.batch.fixed_size(batch_size=200, concurrent_requests=10) as b:\n",
    "        for row in batch.itertuples(index=True):\n",
    "            b.add_object(properties={\n",
    "                \"doc_id\": row.doc_id,\n",
    "                \"title\": row.title,\n",
    "                \"text\": row.text,\n",
    "                \"url\": row.url,\n",
    "                \"title_sparse\": title_sparse_blobs[row.Index],\n",
    "                \"title_colbert\": title_colbert_blobs[row.Index],\n",
    "            }, vector={  \n",
    "                \"title_dense\": title_embeddings[\"dense_vecs\"][row.Index],\n",
    "            }, uuid=row.doc_id)\n",
    "            outer_progress.update(1)"
   ],
   "id": "e58458bf4fd4ff63",
   "outputs": [
    {
     "data": {
      "text/plain": [
       "  0%|          | 0/1876367 [00:00<?, ?it/s]"
      ],
      "application/vnd.jupyter.widget-view+json": {
       "version_major": 2,
       "version_minor": 0,
       "model_id": "61321401a35e4a54b44b83bff8c2b45e"
      }
     },
     "metadata": {},
     "output_type": "display_data"
    },
    {
     "name": "stderr",
     "output_type": "stream",
     "text": [
      "\n",
      "\n",
      "Inference Embeddings:   0%|          | 0/40 [00:00<?, ?it/s]\u001B[A\u001B[A\n",
      "\n",
      "Inference Embeddings:   2%|▎         | 1/40 [00:01<01:09,  1.77s/it]\u001B[A\u001B[A\n",
      "\n",
      "Inference Embeddings:   5%|▌         | 2/40 [00:02<00:45,  1.20s/it]\u001B[A\u001B[A\n",
      "\n",
      "Inference Embeddings:   8%|▊         | 3/40 [00:03<00:37,  1.01s/it]\u001B[A\u001B[A\n",
      "\n",
      "Inference Embeddings:  10%|█         | 4/40 [00:04<00:32,  1.11it/s]\u001B[A\u001B[A\n",
      "\n",
      "Inference Embeddings:  12%|█▎        | 5/40 [00:04<00:29,  1.20it/s]\u001B[A\u001B[A\n",
      "\n",
      "Inference Embeddings:  15%|█▌        | 6/40 [00:05<00:26,  1.27it/s]\u001B[A\u001B[A\n",
      "\n",
      "Inference Embeddings:  18%|█▊        | 7/40 [00:06<00:25,  1.28it/s]\u001B[A\u001B[A\n",
      "\n",
      "Inference Embeddings:  20%|██        | 8/40 [00:06<00:23,  1.34it/s]\u001B[A\u001B[A\n",
      "\n",
      "Inference Embeddings:  22%|██▎       | 9/40 [00:07<00:22,  1.38it/s]\u001B[A\u001B[A\n",
      "\n",
      "Inference Embeddings:  25%|██▌       | 10/40 [00:08<00:21,  1.42it/s]\u001B[A\u001B[A\n",
      "\n",
      "Inference Embeddings:  28%|██▊       | 11/40 [00:08<00:20,  1.44it/s]\u001B[A\u001B[A\n",
      "\n",
      "Inference Embeddings:  30%|███       | 12/40 [00:09<00:19,  1.45it/s]\u001B[A\u001B[A\n",
      "\n",
      "Inference Embeddings:  32%|███▎      | 13/40 [00:10<00:18,  1.48it/s]\u001B[A\u001B[A\n",
      "\n",
      "Inference Embeddings:  35%|███▌      | 14/40 [00:10<00:17,  1.50it/s]\u001B[A\u001B[A\n",
      "\n",
      "Inference Embeddings:  38%|███▊      | 15/40 [00:11<00:16,  1.52it/s]\u001B[A\u001B[A\n",
      "\n",
      "Inference Embeddings:  40%|████      | 16/40 [00:12<00:15,  1.55it/s]\u001B[A\u001B[A\n",
      "\n",
      "Inference Embeddings:  42%|████▎     | 17/40 [00:12<00:14,  1.57it/s]\u001B[A\u001B[A\n",
      "\n",
      "Inference Embeddings:  45%|████▌     | 18/40 [00:13<00:13,  1.59it/s]\u001B[A\u001B[A\n",
      "\n",
      "Inference Embeddings:  48%|████▊     | 19/40 [00:14<00:13,  1.61it/s]\u001B[A\u001B[A\n",
      "\n",
      "Inference Embeddings:  50%|█████     | 20/40 [00:14<00:12,  1.62it/s]\u001B[A\u001B[A\n",
      "\n",
      "Inference Embeddings:  52%|█████▎    | 21/40 [00:15<00:11,  1.63it/s]\u001B[A\u001B[A\n",
      "\n",
      "Inference Embeddings:  55%|█████▌    | 22/40 [00:15<00:10,  1.65it/s]\u001B[A\u001B[A\n",
      "\n",
      "Inference Embeddings:  57%|█████▊    | 23/40 [00:16<00:10,  1.68it/s]\u001B[A\u001B[A\n",
      "\n",
      "Inference Embeddings:  60%|██████    | 24/40 [00:16<00:09,  1.70it/s]\u001B[A\u001B[A\n",
      "\n",
      "Inference Embeddings:  62%|██████▎   | 25/40 [00:17<00:08,  1.72it/s]\u001B[A\u001B[A\n",
      "\n",
      "Inference Embeddings:  65%|██████▌   | 26/40 [00:18<00:08,  1.72it/s]\u001B[A\u001B[A\n",
      "\n",
      "Inference Embeddings:  68%|██████▊   | 27/40 [00:18<00:07,  1.71it/s]\u001B[A\u001B[A\n",
      "\n",
      "Inference Embeddings:  70%|███████   | 28/40 [00:19<00:07,  1.70it/s]\u001B[A\u001B[A\n",
      "\n",
      "Inference Embeddings:  72%|███████▎  | 29/40 [00:19<00:06,  1.70it/s]\u001B[A\u001B[A\n",
      "\n",
      "Inference Embeddings:  75%|███████▌  | 30/40 [00:20<00:05,  1.70it/s]\u001B[A\u001B[A\n",
      "\n",
      "Inference Embeddings:  78%|███████▊  | 31/40 [00:21<00:05,  1.73it/s]\u001B[A\u001B[A\n",
      "\n",
      "Inference Embeddings:  80%|████████  | 32/40 [00:21<00:04,  1.76it/s]\u001B[A\u001B[A\n",
      "\n",
      "Inference Embeddings:  82%|████████▎ | 33/40 [00:22<00:03,  1.78it/s]\u001B[A\u001B[A\n",
      "\n",
      "Inference Embeddings:  85%|████████▌ | 34/40 [00:22<00:03,  1.83it/s]\u001B[A\u001B[A\n",
      "\n",
      "Inference Embeddings:  88%|████████▊ | 35/40 [00:23<00:02,  1.88it/s]\u001B[A\u001B[A\n",
      "\n",
      "Inference Embeddings:  90%|█████████ | 36/40 [00:23<00:02,  1.96it/s]\u001B[A\u001B[A\n",
      "\n",
      "Inference Embeddings:  92%|█████████▎| 37/40 [00:24<00:01,  2.02it/s]\u001B[A\u001B[A\n",
      "\n",
      "Inference Embeddings:  95%|█████████▌| 38/40 [00:24<00:00,  2.09it/s]\u001B[A\u001B[A\n",
      "\n",
      "Inference Embeddings: 100%|██████████| 40/40 [00:24<00:00,  1.61it/s]\u001B[A\u001B[A\n"
     ]
    },
    {
     "ename": "KeyboardInterrupt",
     "evalue": "",
     "output_type": "error",
     "traceback": [
      "\u001B[0;31m---------------------------------------------------------------------------\u001B[0m",
      "\u001B[0;31mKeyboardInterrupt\u001B[0m                         Traceback (most recent call last)",
      "Cell \u001B[0;32mIn[56], line 16\u001B[0m\n\u001B[1;32m     14\u001B[0m \u001B[38;5;28;01mwith\u001B[39;00m zh\u001B[38;5;241m.\u001B[39mbatch\u001B[38;5;241m.\u001B[39mfixed_size(batch_size\u001B[38;5;241m=\u001B[39m\u001B[38;5;241m300\u001B[39m, concurrent_requests\u001B[38;5;241m=\u001B[39m\u001B[38;5;241m10\u001B[39m) \u001B[38;5;28;01mas\u001B[39;00m b:\n\u001B[1;32m     15\u001B[0m     \u001B[38;5;28;01mfor\u001B[39;00m row \u001B[38;5;129;01min\u001B[39;00m batch\u001B[38;5;241m.\u001B[39mitertuples(index\u001B[38;5;241m=\u001B[39m\u001B[38;5;28;01mTrue\u001B[39;00m):\n\u001B[0;32m---> 16\u001B[0m         \u001B[43mb\u001B[49m\u001B[38;5;241;43m.\u001B[39;49m\u001B[43madd_object\u001B[49m\u001B[43m(\u001B[49m\u001B[43mproperties\u001B[49m\u001B[38;5;241;43m=\u001B[39;49m\u001B[43m{\u001B[49m\n\u001B[1;32m     17\u001B[0m \u001B[43m            \u001B[49m\u001B[38;5;124;43m\"\u001B[39;49m\u001B[38;5;124;43mdoc_id\u001B[39;49m\u001B[38;5;124;43m\"\u001B[39;49m\u001B[43m:\u001B[49m\u001B[43m \u001B[49m\u001B[43mrow\u001B[49m\u001B[38;5;241;43m.\u001B[39;49m\u001B[43mdoc_id\u001B[49m\u001B[43m,\u001B[49m\n\u001B[1;32m     18\u001B[0m \u001B[43m            \u001B[49m\u001B[38;5;124;43m\"\u001B[39;49m\u001B[38;5;124;43mtitle\u001B[39;49m\u001B[38;5;124;43m\"\u001B[39;49m\u001B[43m:\u001B[49m\u001B[43m \u001B[49m\u001B[43mrow\u001B[49m\u001B[38;5;241;43m.\u001B[39;49m\u001B[43mtitle\u001B[49m\u001B[43m,\u001B[49m\n\u001B[1;32m     19\u001B[0m \u001B[43m            \u001B[49m\u001B[38;5;124;43m\"\u001B[39;49m\u001B[38;5;124;43mtext\u001B[39;49m\u001B[38;5;124;43m\"\u001B[39;49m\u001B[43m:\u001B[49m\u001B[43m \u001B[49m\u001B[43mrow\u001B[49m\u001B[38;5;241;43m.\u001B[39;49m\u001B[43mtext\u001B[49m\u001B[43m,\u001B[49m\n\u001B[1;32m     20\u001B[0m \u001B[43m            \u001B[49m\u001B[38;5;124;43m\"\u001B[39;49m\u001B[38;5;124;43murl\u001B[39;49m\u001B[38;5;124;43m\"\u001B[39;49m\u001B[43m:\u001B[49m\u001B[43m \u001B[49m\u001B[43mrow\u001B[49m\u001B[38;5;241;43m.\u001B[39;49m\u001B[43murl\u001B[49m\u001B[43m,\u001B[49m\n\u001B[1;32m     21\u001B[0m \u001B[43m            \u001B[49m\u001B[38;5;124;43m\"\u001B[39;49m\u001B[38;5;124;43mtitle_sparse\u001B[39;49m\u001B[38;5;124;43m\"\u001B[39;49m\u001B[43m:\u001B[49m\u001B[43m \u001B[49m\u001B[43mtitle_sparse_blobs\u001B[49m\u001B[43m[\u001B[49m\u001B[43mrow\u001B[49m\u001B[38;5;241;43m.\u001B[39;49m\u001B[43mIndex\u001B[49m\u001B[43m]\u001B[49m\u001B[43m,\u001B[49m\n\u001B[1;32m     22\u001B[0m \u001B[43m            \u001B[49m\u001B[38;5;124;43m\"\u001B[39;49m\u001B[38;5;124;43mtitle_colbert\u001B[39;49m\u001B[38;5;124;43m\"\u001B[39;49m\u001B[43m:\u001B[49m\u001B[43m \u001B[49m\u001B[43mtitle_colbert_blobs\u001B[49m\u001B[43m[\u001B[49m\u001B[43mrow\u001B[49m\u001B[38;5;241;43m.\u001B[39;49m\u001B[43mIndex\u001B[49m\u001B[43m]\u001B[49m\u001B[43m,\u001B[49m\n\u001B[1;32m     23\u001B[0m \u001B[43m        \u001B[49m\u001B[43m}\u001B[49m\u001B[43m,\u001B[49m\u001B[43m \u001B[49m\u001B[43mvector\u001B[49m\u001B[38;5;241;43m=\u001B[39;49m\u001B[43m{\u001B[49m\u001B[43m  \u001B[49m\n\u001B[1;32m     24\u001B[0m \u001B[43m            \u001B[49m\u001B[38;5;124;43m\"\u001B[39;49m\u001B[38;5;124;43mtitle_dense\u001B[39;49m\u001B[38;5;124;43m\"\u001B[39;49m\u001B[43m:\u001B[49m\u001B[43m \u001B[49m\u001B[43mtitle_embeddings\u001B[49m\u001B[43m[\u001B[49m\u001B[38;5;124;43m\"\u001B[39;49m\u001B[38;5;124;43mdense_vecs\u001B[39;49m\u001B[38;5;124;43m\"\u001B[39;49m\u001B[43m]\u001B[49m\u001B[43m[\u001B[49m\u001B[43mrow\u001B[49m\u001B[38;5;241;43m.\u001B[39;49m\u001B[43mIndex\u001B[49m\u001B[43m]\u001B[49m\u001B[43m,\u001B[49m\n\u001B[1;32m     25\u001B[0m \u001B[43m        \u001B[49m\u001B[43m}\u001B[49m\u001B[43m,\u001B[49m\u001B[43m \u001B[49m\u001B[43muuid\u001B[49m\u001B[38;5;241;43m=\u001B[39;49m\u001B[43mrow\u001B[49m\u001B[38;5;241;43m.\u001B[39;49m\u001B[43mdoc_id\u001B[49m\u001B[43m)\u001B[49m\n\u001B[1;32m     26\u001B[0m     outer_progress\u001B[38;5;241m.\u001B[39mupdate(\u001B[38;5;241m200\u001B[39m)\n",
      "File \u001B[0;32m~/Library/Caches/pypoetry/virtualenvs/ie691-ir-project-u22LL72s-py3.12/lib/python3.12/site-packages/weaviate/collections/batch/collection.py:81\u001B[0m, in \u001B[0;36m_BatchCollection.add_object\u001B[0;34m(self, properties, references, uuid, vector)\u001B[0m\n\u001B[1;32m     47\u001B[0m \u001B[38;5;28;01mdef\u001B[39;00m \u001B[38;5;21madd_object\u001B[39m(\n\u001B[1;32m     48\u001B[0m     \u001B[38;5;28mself\u001B[39m,\n\u001B[1;32m     49\u001B[0m     properties: Optional[Properties] \u001B[38;5;241m=\u001B[39m \u001B[38;5;28;01mNone\u001B[39;00m,\n\u001B[0;32m   (...)\u001B[0m\n\u001B[1;32m     52\u001B[0m     vector: Optional[VECTORS] \u001B[38;5;241m=\u001B[39m \u001B[38;5;28;01mNone\u001B[39;00m,\n\u001B[1;32m     53\u001B[0m ) \u001B[38;5;241m-\u001B[39m\u001B[38;5;241m>\u001B[39m UUID:\n\u001B[1;32m     54\u001B[0m \u001B[38;5;250m    \u001B[39m\u001B[38;5;124;03m\"\"\"Add one object to this batch.\u001B[39;00m\n\u001B[1;32m     55\u001B[0m \n\u001B[1;32m     56\u001B[0m \u001B[38;5;124;03m    NOTE: If the UUID of one of the objects already exists then the existing object will be replaced by the new object.\u001B[39;00m\n\u001B[0;32m   (...)\u001B[0m\n\u001B[1;32m     79\u001B[0m \u001B[38;5;124;03m            If the provided options are in the format required by Weaviate.\u001B[39;00m\n\u001B[1;32m     80\u001B[0m \u001B[38;5;124;03m    \"\"\"\u001B[39;00m\n\u001B[0;32m---> 81\u001B[0m     \u001B[38;5;28;01mreturn\u001B[39;00m \u001B[38;5;28;43mself\u001B[39;49m\u001B[38;5;241;43m.\u001B[39;49m\u001B[43m_add_object\u001B[49m\u001B[43m(\u001B[49m\n\u001B[1;32m     82\u001B[0m \u001B[43m        \u001B[49m\u001B[43mcollection\u001B[49m\u001B[38;5;241;43m=\u001B[39;49m\u001B[38;5;28;43mself\u001B[39;49m\u001B[38;5;241;43m.\u001B[39;49m\u001B[43m__name\u001B[49m\u001B[43m,\u001B[49m\n\u001B[1;32m     83\u001B[0m \u001B[43m        \u001B[49m\u001B[43mproperties\u001B[49m\u001B[38;5;241;43m=\u001B[39;49m\u001B[43mproperties\u001B[49m\u001B[43m,\u001B[49m\n\u001B[1;32m     84\u001B[0m \u001B[43m        \u001B[49m\u001B[43mreferences\u001B[49m\u001B[38;5;241;43m=\u001B[39;49m\u001B[43mreferences\u001B[49m\u001B[43m,\u001B[49m\n\u001B[1;32m     85\u001B[0m \u001B[43m        \u001B[49m\u001B[43muuid\u001B[49m\u001B[38;5;241;43m=\u001B[39;49m\u001B[43muuid\u001B[49m\u001B[43m,\u001B[49m\n\u001B[1;32m     86\u001B[0m \u001B[43m        \u001B[49m\u001B[43mvector\u001B[49m\u001B[38;5;241;43m=\u001B[39;49m\u001B[43mvector\u001B[49m\u001B[43m,\u001B[49m\n\u001B[1;32m     87\u001B[0m \u001B[43m        \u001B[49m\u001B[43mtenant\u001B[49m\u001B[38;5;241;43m=\u001B[39;49m\u001B[38;5;28;43mself\u001B[39;49m\u001B[38;5;241;43m.\u001B[39;49m\u001B[43m__tenant\u001B[49m\u001B[43m,\u001B[49m\n\u001B[1;32m     88\u001B[0m \u001B[43m    \u001B[49m\u001B[43m)\u001B[49m\n",
      "File \u001B[0;32m~/Library/Caches/pypoetry/virtualenvs/ie691-ir-project-u22LL72s-py3.12/lib/python3.12/site-packages/weaviate/collections/batch/base.py:656\u001B[0m, in \u001B[0;36m_BatchBase._add_object\u001B[0;34m(self, collection, properties, references, uuid, vector, tenant)\u001B[0m\n\u001B[1;32m    651\u001B[0m \u001B[38;5;28;01mwhile\u001B[39;00m (\n\u001B[1;32m    652\u001B[0m     \u001B[38;5;28mself\u001B[39m\u001B[38;5;241m.\u001B[39m__recommended_num_objects \u001B[38;5;241m==\u001B[39m \u001B[38;5;241m0\u001B[39m\n\u001B[1;32m    653\u001B[0m     \u001B[38;5;129;01mor\u001B[39;00m \u001B[38;5;28mlen\u001B[39m(\u001B[38;5;28mself\u001B[39m\u001B[38;5;241m.\u001B[39m__batch_objects) \u001B[38;5;241m>\u001B[39m\u001B[38;5;241m=\u001B[39m \u001B[38;5;28mself\u001B[39m\u001B[38;5;241m.\u001B[39m__recommended_num_objects \u001B[38;5;241m*\u001B[39m \u001B[38;5;241m2\u001B[39m\n\u001B[1;32m    654\u001B[0m ):\n\u001B[1;32m    655\u001B[0m     \u001B[38;5;28mself\u001B[39m\u001B[38;5;241m.\u001B[39m__check_bg_thread_alive()\n\u001B[0;32m--> 656\u001B[0m     \u001B[43mtime\u001B[49m\u001B[38;5;241;43m.\u001B[39;49m\u001B[43msleep\u001B[49m\u001B[43m(\u001B[49m\u001B[38;5;241;43m0.01\u001B[39;49m\u001B[43m)\u001B[49m\n\u001B[1;32m    658\u001B[0m \u001B[38;5;28;01massert\u001B[39;00m batch_object\u001B[38;5;241m.\u001B[39muuid \u001B[38;5;129;01mis\u001B[39;00m \u001B[38;5;129;01mnot\u001B[39;00m \u001B[38;5;28;01mNone\u001B[39;00m\n\u001B[1;32m    659\u001B[0m \u001B[38;5;28;01mreturn\u001B[39;00m batch_object\u001B[38;5;241m.\u001B[39muuid\n",
      "\u001B[0;31mKeyboardInterrupt\u001B[0m: "
     ]
    }
   ],
   "execution_count": 56
  },
  {
   "metadata": {
    "ExecuteTime": {
     "end_time": "2024-11-24T19:49:43.008972Z",
     "start_time": "2024-11-24T19:49:42.979499Z"
    }
   },
   "cell_type": "code",
   "source": [
    "\n",
    "zh = client.collections.get(\"neuclir_bge_m3\")\n",
    "aggregation = zh.aggregate.over_all(total_count=True)\n",
    "print(aggregation.total_count)"
   ],
   "id": "226c41cad9bfe2c7",
   "outputs": [
    {
     "name": "stdout",
     "output_type": "stream",
     "text": [
      "2194\n"
     ]
    }
   ],
   "execution_count": 65
  },
  {
   "metadata": {},
   "cell_type": "code",
   "outputs": [],
   "execution_count": null,
   "source": "",
   "id": "7ab8d7371f8274a2"
  }
 ],
 "metadata": {
  "kernelspec": {
   "display_name": "Python 3",
   "language": "python",
   "name": "python3"
  },
  "language_info": {
   "codemirror_mode": {
    "name": "ipython",
    "version": 2
   },
   "file_extension": ".py",
   "mimetype": "text/x-python",
   "name": "python",
   "nbconvert_exporter": "python",
   "pygments_lexer": "ipython2",
   "version": "2.7.6"
  }
 },
 "nbformat": 4,
 "nbformat_minor": 5
}
