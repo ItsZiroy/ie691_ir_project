{
 "cells": [
  {
   "cell_type": "code",
   "id": "9f0834eb1605c2cc",
   "metadata": {
    "ExecuteTime": {
     "end_time": "2024-11-27T16:15:39.735699Z",
     "start_time": "2024-11-27T16:15:30.632620Z"
    }
   },
   "source": [
    "from tqdm.notebook import tqdm\n",
    "from dotenv import load_dotenv\n",
    "\n",
    "from m3_sentence_transformer.data_sampler import get_sample_docs_with_all_qrels\n",
    "\n",
    "load_dotenv()\n"
   ],
   "outputs": [
    {
     "data": {
      "text/plain": [
       "Fetching 30 files:   0%|          | 0/30 [00:00<?, ?it/s]"
      ],
      "application/vnd.jupyter.widget-view+json": {
       "version_major": 2,
       "version_minor": 0,
       "model_id": "3a68d46273ba43d1b1a3934c19d02c10"
      }
     },
     "metadata": {},
     "output_type": "display_data"
    }
   ],
   "execution_count": 2
  },
  {
   "cell_type": "code",
   "id": "initial_id",
   "metadata": {
    "ExecuteTime": {
     "end_time": "2024-12-02T22:37:41.146893Z",
     "start_time": "2024-12-02T22:37:40.921143Z"
    }
   },
   "source": [
    "import weaviate\n",
    "import weaviate.classes as wvc\n",
    "\n",
    "client = weaviate.connect_to_local()\n",
    "\n",
    "sample_path = \"neuclir_1_mutli_bge_m3_100k.csv\"\n",
    "collection_name = \"neuclir_1_mutli_bge_m3_100k\"\n",
    "collbert_collection_name = \"neuclir_1_mutli_bge_m3_100k_colbert\""
   ],
   "outputs": [],
   "execution_count": 3
  },
  {
   "metadata": {},
   "cell_type": "code",
   "outputs": [],
   "execution_count": null,
   "source": [
    "\n",
    "docs = get_sample_docs_with_all_qrels(sample_path)\n",
    "\n",
    "\n",
    "len(docs)"
   ],
   "id": "590d015654b386c6"
  },
  {
   "cell_type": "code",
   "id": "f5a24c0a420b473",
   "metadata": {
    "ExecuteTime": {
     "end_time": "2024-12-02T17:52:33.142749Z",
     "start_time": "2024-12-02T17:52:33.080951Z"
    }
   },
   "source": "#client.collections.delete(\"neuclir_1_mutli_bge_m3_100k\")",
   "outputs": [],
   "execution_count": 13
  },
  {
   "cell_type": "code",
   "id": "ad1e0841b2063e84",
   "metadata": {
    "ExecuteTime": {
     "end_time": "2024-12-02T22:37:54.182508Z",
     "start_time": "2024-12-02T22:37:53.991445Z"
    }
   },
   "source": [
    "try:\n",
    "    documents = client.collections.create(\n",
    "        name=collection_name,\n",
    "        vectorizer_config=[\n",
    "            wvc.config.Configure.NamedVectors.none(\n",
    "                name=\"title_dense\",\n",
    "                vector_index_config=wvc.config.Configure.VectorIndex.hnsw(\n",
    "                    vector_cache_max_objects=100000,\n",
    "                    #quantizer=wvc.config.Reconfigure.VectorIndex.Quantizer.pq(training_limit=100000)  # Set the threshold to begin training\n",
    "                ),    \n",
    "            ),\n",
    "            wvc.config.Configure.NamedVectors.none( \n",
    "                name=\"text_dense\",\n",
    "                vector_index_config=wvc.config.Configure.VectorIndex.hnsw(\n",
    "                    vector_cache_max_objects=100000,\n",
    "                   # quantizer=wvc.config.Reconfigure.VectorIndex.Quantizer.pq(training_limit=10000)  # Set the threshold to begin training\n",
    "                ),\n",
    "            ),\n",
    "        ],\n",
    "        properties=[\n",
    "            wvc.config.Property(\n",
    "                name=\"doc_id\",\n",
    "                data_type=wvc.config.DataType.UUID,\n",
    "            ),\n",
    "           # wvc.config.Property(\n",
    "          #      name=\"title_sparse\",\n",
    "           #     data_type=wvc.config.DataType.BLOB,\n",
    "           # ),\n",
    "          #    wvc.config.Property(\n",
    "          #      name=\"document_sparse\",\n",
    "          #      data_type=wvc.config.DataType.BLOB,\n",
    "          #  ),\n",
    "          #  wvc.config.Property(\n",
    "          #      name=\"title_colbert\",\n",
    "          #      data_type=wvc.config.DataType.BLOB,\n",
    "          #  ),\n",
    "        #   wvc.config.Property(\n",
    "         #       name=\"document_colbert\",\n",
    "         #       data_type=wvc.config.DataType.BLOB,\n",
    "          #  ),\n",
    "            wvc.config.Property(\n",
    "                name=\"title\",\n",
    "                data_type=wvc.config.DataType.TEXT,\n",
    "            ),\n",
    "            wvc.config.Property(\n",
    "                name=\"text\",\n",
    "                data_type=wvc.config.DataType.TEXT,\n",
    "            ),\n",
    "            wvc.config.Property(\n",
    "                name=\"url\",\n",
    "                data_type=wvc.config.DataType.TEXT,\n",
    "            )\n",
    "        ])\n",
    "except Exception as e:\n",
    "    print(e)\n"
   ],
   "outputs": [
    {
     "name": "stderr",
     "output_type": "stream",
     "text": [
      "/Users/I551385/Library/Caches/pypoetry/virtualenvs/ie691-ir-project-u22LL72s-py3.12/lib/python3.12/site-packages/weaviate/warnings.py:329: ResourceWarning: Con004: The connection to Weaviate was not closed properly. This can lead to memory leaks.\n",
      "            Please make sure to close the connection using `client.close()`.\n",
      "  warnings.warn(\n"
     ]
    }
   ],
   "execution_count": 4
  },
  {
   "metadata": {
    "ExecuteTime": {
     "end_time": "2024-12-02T22:37:57.548418Z",
     "start_time": "2024-12-02T22:37:57.379212Z"
    }
   },
   "cell_type": "code",
   "outputs": [],
   "execution_count": 5,
   "source": [
    "try:\n",
    "    documents = client.collections.create(\n",
    "        name=collbert_collection_name,\n",
    "        vectorizer_config=[\n",
    "            wvc.config.Configure.NamedVectors.none(\n",
    "                name=\"title_colbert\",\n",
    "                vector_index_config=wvc.config.Configure.VectorIndex.hnsw(\n",
    "                    vector_cache_max_objects=50000,\n",
    "                    #quantizer=wvc.config.Configure.VectorIndex.Quantizer.pq(training_limit=30000)  # Set the threshold to begin training\n",
    "                ),\n",
    "        )],\n",
    "        properties=[\n",
    "            wvc.config.Property(\n",
    "                name=\"doc_id\",\n",
    "                data_type=wvc.config.DataType.UUID,\n",
    "            ),\n",
    "        ])\n",
    "except Exception as e:\n",
    "    print(e)\n"
   ],
   "id": "68cee567865241d0"
  },
  {
   "cell_type": "code",
   "id": "226c41cad9bfe2c7",
   "metadata": {
    "ExecuteTime": {
     "end_time": "2024-12-02T15:25:00.499272Z",
     "start_time": "2024-12-02T15:25:00.491819Z"
    }
   },
   "source": [
    "\n",
    "zh = client.collections.get(collection_name)\n",
    "aggregation = zh.aggregate.over_all(total_count=True)\n",
    "print(aggregation.total_count)"
   ],
   "outputs": [
    {
     "name": "stdout",
     "output_type": "stream",
     "text": [
      "44621\n"
     ]
    }
   ],
   "execution_count": 8
  },
  {
   "cell_type": "code",
   "execution_count": null,
   "id": "c52a829c-4ef3-4109-bffd-ede0877d812f",
   "metadata": {},
   "outputs": [],
   "source": []
  }
 ],
 "metadata": {
  "kernelspec": {
   "display_name": "Python 3 (ipykernel)",
   "language": "python",
   "name": "python3"
  },
  "language_info": {
   "codemirror_mode": {
    "name": "ipython",
    "version": 3
   },
   "file_extension": ".py",
   "mimetype": "text/x-python",
   "name": "python",
   "nbconvert_exporter": "python",
   "pygments_lexer": "ipython3",
   "version": "3.12.6"
  }
 },
 "nbformat": 4,
 "nbformat_minor": 5
}
