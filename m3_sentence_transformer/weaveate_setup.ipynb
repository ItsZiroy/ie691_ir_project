{
 "cells": [
  {
   "cell_type": "code",
   "id": "9f0834eb1605c2cc",
   "metadata": {
    "ExecuteTime": {
     "end_time": "2024-12-05T21:07:48.601769Z",
     "start_time": "2024-12-05T21:07:48.595192Z"
    }
   },
   "source": [
    "from dotenv import load_dotenv\n",
    "\n",
    "from m3_sentence_transformer.data_sampler import get_sample_docs_with_all_qrels\n",
    "\n",
    "load_dotenv()\n"
   ],
   "outputs": [
    {
     "data": {
      "text/plain": [
       "False"
      ]
     },
     "execution_count": 15,
     "metadata": {},
     "output_type": "execute_result"
    }
   ],
   "execution_count": 15
  },
  {
   "cell_type": "code",
   "id": "initial_id",
   "metadata": {
    "ExecuteTime": {
     "end_time": "2024-12-05T21:07:48.709002Z",
     "start_time": "2024-12-05T21:07:48.606378Z"
    }
   },
   "source": [
    "import weaviate\n",
    "import weaviate.classes as wvc\n",
    "\n",
    "client = weaviate.connect_to_local()\n",
    "\n",
    "sample_path = \"random_docs_with_qrels_100k.csv\"\n",
    "collection_name = \"neuclir_1_mutli_bge_m3_100k\"\n",
    "collbert_collection_name = \"neuclir_1_mutli_bge_m3_100k_colbert\""
   ],
   "outputs": [],
   "execution_count": 16
  },
  {
   "metadata": {
    "ExecuteTime": {
     "end_time": "2024-12-05T21:07:53.777810Z",
     "start_time": "2024-12-05T21:07:48.732297Z"
    }
   },
   "cell_type": "code",
   "source": [
    "\n",
    "docs = get_sample_docs_with_all_qrels(sample_path)\n",
    "\n",
    "\n",
    "len(docs)"
   ],
   "id": "590d015654b386c6",
   "outputs": [
    {
     "name": "stdout",
     "output_type": "stream",
     "text": [
      "Loaded 99856 docs.\n"
     ]
    },
    {
     "data": {
      "text/plain": [
       "99856"
      ]
     },
     "execution_count": 17,
     "metadata": {},
     "output_type": "execute_result"
    }
   ],
   "execution_count": 17
  },
  {
   "cell_type": "code",
   "id": "f5a24c0a420b473",
   "metadata": {
    "ExecuteTime": {
     "end_time": "2024-12-05T21:07:53.797849Z",
     "start_time": "2024-12-05T21:07:53.796466Z"
    }
   },
   "source": "#client.collections.delete(\"neuclir_1_mutli_bge_m3_100k\")",
   "outputs": [],
   "execution_count": 18
  },
  {
   "cell_type": "code",
   "id": "ad1e0841b2063e84",
   "metadata": {
    "ExecuteTime": {
     "end_time": "2024-12-05T21:07:53.985509Z",
     "start_time": "2024-12-05T21:07:53.811174Z"
    }
   },
   "source": [
    "try:\n",
    "    documents = client.collections.create(\n",
    "        name=collection_name,\n",
    "        vectorizer_config=[\n",
    "            wvc.config.Configure.NamedVectors.none(\n",
    "                name=\"title_dense\",\n",
    "                vector_index_config=wvc.config.Configure.VectorIndex.hnsw(\n",
    "                    vector_cache_max_objects=100000,\n",
    "                    #quantizer=wvc.config.Reconfigure.VectorIndex.Quantizer.pq(training_limit=100000)  # Set the threshold to begin training\n",
    "                ),    \n",
    "            ),\n",
    "            wvc.config.Configure.NamedVectors.none( \n",
    "                name=\"text_dense\",\n",
    "                vector_index_config=wvc.config.Configure.VectorIndex.hnsw(\n",
    "                    vector_cache_max_objects=100000,\n",
    "                   # quantizer=wvc.config.Reconfigure.VectorIndex.Quantizer.pq(training_limit=10000)  # Set the threshold to begin training\n",
    "                ),\n",
    "            ),\n",
    "        ],\n",
    "        properties=[\n",
    "            wvc.config.Property(\n",
    "                name=\"doc_id\",\n",
    "                data_type=wvc.config.DataType.UUID,\n",
    "            ),\n",
    "           # wvc.config.Property(\n",
    "          #      name=\"title_sparse\",\n",
    "           #     data_type=wvc.config.DataType.BLOB,\n",
    "           # ),\n",
    "          #    wvc.config.Property(\n",
    "          #      name=\"document_sparse\",\n",
    "          #      data_type=wvc.config.DataType.BLOB,\n",
    "          #  ),\n",
    "          #  wvc.config.Property(\n",
    "          #      name=\"title_colbert\",\n",
    "          #      data_type=wvc.config.DataType.BLOB,\n",
    "          #  ),\n",
    "        #   wvc.config.Property(\n",
    "         #       name=\"document_colbert\",\n",
    "         #       data_type=wvc.config.DataType.BLOB,\n",
    "          #  ),\n",
    "            wvc.config.Property(\n",
    "                name=\"title\",\n",
    "                data_type=wvc.config.DataType.TEXT,\n",
    "            ),\n",
    "            wvc.config.Property(\n",
    "                name=\"text\",\n",
    "                data_type=wvc.config.DataType.TEXT,\n",
    "            ),\n",
    "            wvc.config.Property(\n",
    "                name=\"url\",\n",
    "                data_type=wvc.config.DataType.TEXT,\n",
    "            )\n",
    "        ])\n",
    "except Exception as e:\n",
    "    print(e)\n"
   ],
   "outputs": [],
   "execution_count": 19
  },
  {
   "metadata": {
    "ExecuteTime": {
     "end_time": "2024-12-05T21:07:56.080708Z",
     "start_time": "2024-12-05T21:07:54.015711Z"
    }
   },
   "cell_type": "code",
   "source": [
    "try:\n",
    "    documents = client.collections.create(\n",
    "        name=collbert_collection_name,\n",
    "        vectorizer_config=[\n",
    "            wvc.config.Configure.NamedVectors.none(\n",
    "                name=\"title_colbert\",\n",
    "                vector_index_config=wvc.config.Configure.VectorIndex.hnsw(\n",
    "                    vector_cache_max_objects=50000,\n",
    "                    #quantizer=wvc.config.Configure.VectorIndex.Quantizer.pq(training_limit=30000)  # Set the threshold to begin training\n",
    "                ),\n",
    "        )],\n",
    "        properties=[\n",
    "            wvc.config.Property(\n",
    "                name=\"doc_id\",\n",
    "                data_type=wvc.config.DataType.UUID,\n",
    "            ),\n",
    "        ])\n",
    "except Exception as e:\n",
    "    print(e)\n"
   ],
   "id": "68cee567865241d0",
   "outputs": [
    {
     "name": "stdout",
     "output_type": "stream",
     "text": [
      "Collection may not have been created properly.! Unexpected status code: 422, with response body: {'error': [{'message': 'class name Neuclir_1_mutli_bge_m3_100k_colbert already exists'}]}.\n"
     ]
    }
   ],
   "execution_count": 20
  },
  {
   "cell_type": "code",
   "id": "226c41cad9bfe2c7",
   "metadata": {
    "ExecuteTime": {
     "end_time": "2024-12-05T21:07:56.131902Z",
     "start_time": "2024-12-05T21:07:56.123957Z"
    }
   },
   "source": [
    "\n",
    "zh = client.collections.get(collection_name)\n",
    "aggregation = zh.aggregate.over_all(total_count=True)\n",
    "print(aggregation.total_count)"
   ],
   "outputs": [
    {
     "name": "stdout",
     "output_type": "stream",
     "text": [
      "0\n"
     ]
    },
    {
     "name": "stderr",
     "output_type": "stream",
     "text": [
      "/Users/yannikhahn/Library/Caches/pypoetry/virtualenvs/ie691-ir-project-nvfediNS-py3.12/lib/python3.12/site-packages/weaviate/warnings.py:329: ResourceWarning: Con004: The connection to Weaviate was not closed properly. This can lead to memory leaks.\n",
      "            Please make sure to close the connection using `client.close()`.\n",
      "  warnings.warn(\n"
     ]
    }
   ],
   "execution_count": 21
  },
  {
   "cell_type": "code",
   "id": "c52a829c-4ef3-4109-bffd-ede0877d812f",
   "metadata": {
    "ExecuteTime": {
     "end_time": "2024-12-05T21:07:56.138835Z",
     "start_time": "2024-12-05T21:07:56.137387Z"
    }
   },
   "source": [],
   "outputs": [],
   "execution_count": null
  }
 ],
 "metadata": {
  "kernelspec": {
   "display_name": "Python 3 (ipykernel)",
   "language": "python",
   "name": "python3"
  },
  "language_info": {
   "codemirror_mode": {
    "name": "ipython",
    "version": 3
   },
   "file_extension": ".py",
   "mimetype": "text/x-python",
   "name": "python",
   "nbconvert_exporter": "python",
   "pygments_lexer": "ipython3",
   "version": "3.12.6"
  }
 },
 "nbformat": 4,
 "nbformat_minor": 5
}
